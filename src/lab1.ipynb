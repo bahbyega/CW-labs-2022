{
 "cells": [
  {
   "cell_type": "markdown",
   "id": "aba4b933-e9b2-49c2-bfec-0e6f3f786dfb",
   "metadata": {},
   "source": [
    "# Lab #1\n",
    "\n",
    "---\n",
    "\n",
    "## Task\n",
    "Для СЛАУ с некоторой матрицей A:\n",
    "\n",
    "- вычислить числа обусловленности\n",
    "- поварьировав матрицу и правую часть, вычислить |x - ͂x͂|\n",
    "- посмотреть, есть ли корреляция между величинами чисел обусловленности и погрешностью решения"
   ]
  },
  {
   "cell_type": "markdown",
   "id": "574619e3-800a-4c46-9421-e61f67556f0d",
   "metadata": {},
   "source": [
    "## Solution\n",
    "---"
   ]
  },
  {
   "cell_type": "markdown",
   "id": "3d368b33-3262-49ee-8bf4-73a5af872b88",
   "metadata": {},
   "source": [
    "### Computation of condition numbers"
   ]
  },
  {
   "cell_type": "code",
   "execution_count": 9,
   "id": "33692f4b-0df7-4c0e-8ef0-de96772d2f1f",
   "metadata": {},
   "outputs": [],
   "source": [
    "from scipy import linalg as la\n",
    "import numpy as np\n",
    "import math\n",
    "\n",
    "def spectral_condition_nums(matr):\n",
    "    return la.norm(matr) * la.norm(la.inv(matr))\n",
    "\n",
    "def bulk_condition_nums(matr):\n",
    "    product = 1\n",
    "    n, m = matr.shape\n",
    "    \n",
    "    for i in range(n):\n",
    "        temp_sum = 0\n",
    "        for j in range(m):\n",
    "            temp_sum += pow(matr[i, j], 2)\n",
    "        product *= math.sqrt(temp_sum)\n",
    "    \n",
    "    return product / abs(la.det(matr))\n",
    "\n",
    "def angular_condition_nums(matr):\n",
    "    iterator = zip(matr, la.inv(matr).transpose())\n",
    "    return max([la.norm(row) * la.norm(col) for (row, col) in iterator])\n",
    "\n",
    "def compute_matr_condition_nums(matr):\n",
    "    return [\n",
    "        spectral_condition_nums(matr),\n",
    "        bulk_condition_nums(matr),\n",
    "        angular_condition_nums(matr)\n",
    "    ]"
   ]
  },
  {
   "cell_type": "markdown",
   "id": "e5608c0c-cc58-4c60-97c7-87a3a9f6b51a",
   "metadata": {},
   "source": [
    "### Linear equation solution"
   ]
  },
  {
   "cell_type": "code",
   "execution_count": 10,
   "id": "5cb1e921-7638-4c78-af26-7696c32ba71c",
   "metadata": {},
   "outputs": [],
   "source": [
    "def solve_le(A, b):\n",
    "    return la.solve(A, b)"
   ]
  },
  {
   "cell_type": "markdown",
   "id": "a58f7f36-272e-4f0a-907f-33acf545d8a6",
   "metadata": {},
   "source": [
    "### Creation of test matrices"
   ]
  },
  {
   "cell_type": "code",
   "execution_count": 11,
   "id": "4dc0f293-278c-4552-bbe8-7755581c2562",
   "metadata": {},
   "outputs": [],
   "source": [
    "def round_matrices(matrices, decimals):\n",
    "    return [matrix.round(decimals) for matrix in matrices]\n",
    "\n",
    "def create_hilbert_matrices(st_i, end_i):\n",
    "    return [la.hilbert(i) for i in range(st_i, end_i)]\n",
    "\n",
    "def create_tridiagonal_matrix(size):\n",
    "    if size > 2:\n",
    "        zeros = [0 for i in range(size - 2)]\n",
    "    else:\n",
    "        raise AttributeError('size should be greater than 2.')\n",
    "    return np.array(la.toeplitz([2, -1] + zeros, [0, -1] + zeros))\n",
    "\n",
    "def create_tridiagonal_matrices(st_i, end_i):\n",
    "    return [create_tridiagonal_matrix(i) for i in range(st_i, end_i)]\n",
    "\n",
    "def create_random_matrices(st_i, end_i):\n",
    "    return [np.random.random((i, i)) for i in range(st_i, end_i)]"
   ]
  },
  {
   "cell_type": "markdown",
   "id": "ad69249f-8779-4ded-8250-3db1c526a6e5",
   "metadata": {
    "tags": []
   },
   "source": [
    "## Experimental research\n",
    "\n",
    "---\n",
    "\n",
    "This block presents results of the implemented functions.\n",
    "We evaluate three different test cases:\n",
    "    - Hilbert matrices\n",
    "    - Randomly generated matrices\n",
    "    - Diagonally dominant matrices\n",
    "    \n",
    "For each case we vary matrices and vectors of linear system to check the correlation between\n",
    "condition numbers and solution error."
   ]
  },
  {
   "cell_type": "code",
   "execution_count": 12,
   "id": "dc413295-454e-42d7-8bb1-fbc6d86a66d0",
   "metadata": {},
   "outputs": [],
   "source": [
    "import pandas as pd\n",
    "\n",
    "order_from, order_to = 3, 20\n",
    "decimals = range(2, 11, 3)\n",
    "\n",
    "hilbert_matrices = create_hilbert_matrices(order_from, order_to)\n",
    "tridiagonal_matrices = create_tridiagonal_matrices(order_from, order_to)\n",
    "random_matrices = create_random_matrices(order_from, order_to)\n",
    "\n",
    "def experiment(matr, decimal_round):\n",
    "    n, m = matr.shape\n",
    "    id_vect = np.ones(m)\n",
    "    \n",
    "    b = matr.dot(id_vect)\n",
    "    b = b.round(decimal_round)\n",
    "    matr = matr.round(decimal_round)\n",
    "    \n",
    "    sol = solve_le(matr, b)\n",
    "    \n",
    "    return la.norm(sol - id_vect)"
   ]
  },
  {
   "cell_type": "markdown",
   "id": "cbab148a-aaba-4b19-8fc1-9561fd6b44cc",
   "metadata": {
    "tags": []
   },
   "source": [
    "### Результаты для матриц Гильберта разного порядка"
   ]
  },
  {
   "cell_type": "code",
   "execution_count": 13,
   "id": "6595e8e1-18a2-43f6-8727-f195836c84b7",
   "metadata": {},
   "outputs": [
    {
     "name": "stdout",
     "output_type": "stream",
     "text": [
      "            2         5         8      spectral           bulk       angular\n",
      "3    0.000000  0.000000  0.000000  5.261590e+02   7.580470e+02  1.728870e+02\n",
      "4    0.000000  0.054608  0.000000  1.561379e+04   9.370859e+05  4.020913e+03\n",
      "5    1.309666  1.339712  0.000000  4.808491e+05   1.608573e+10  9.515770e+04\n",
      "6    1.624585  9.614305  0.000000  1.511899e+07   3.955105e+15  2.441571e+06\n",
      "7    0.307761  5.575368  1.151815  4.817473e+08   1.421000e+22  7.162186e+07\n",
      "8    2.883488  5.437613  2.643599  1.549362e+10   7.564448e+29  2.025215e+09\n",
      "9    5.412924  2.901804  0.000000  5.017293e+11   6.027526e+38  5.577427e+10\n",
      "10   3.741657  2.652971  1.108988  1.633184e+13   7.244802e+48  1.719678e+12\n",
      "11   9.985970  0.000000  0.704408  5.326132e+14   1.318724e+60  5.223034e+13\n",
      "12  15.611931  0.000000  0.893006  1.668630e+16   3.505211e+72  1.475688e+15\n",
      "13  11.110376  2.548140  1.420309  3.704761e+17   1.008812e+86  3.021442e+16\n",
      "14   2.775821  2.277786  1.132922  7.180739e+17   3.416110e+99  5.462015e+16\n",
      "15  17.952915  4.577043  1.293375  5.055200e+17  8.935327e+112  3.339553e+16\n",
      "16   6.042209  1.025739  1.967109  6.461334e+17  1.153885e+127  3.359049e+16\n",
      "17   4.049841  1.314950  2.346465  8.374518e+17  1.067474e+141  5.044521e+16\n",
      "18   6.515433  4.188015  2.390373  1.279022e+18  1.887560e+155  7.046936e+16\n",
      "19  10.303730  1.847466  6.205413  7.009004e+17  1.067559e+169  2.998699e+16\n"
     ]
    }
   ],
   "source": [
    "res_hilbert = []\n",
    "cond_nums = []\n",
    "\n",
    "for matr in hilbert_matrices:\n",
    "    hilbert_results = [experiment(matr, decimal) for decimal in decimals]\n",
    "    res_hilbert.append(hilbert_results)\n",
    "    cond_nums.append(compute_matr_condition_nums(matr))\n",
    "\n",
    "df_h = pd.DataFrame(res_hilbert, index=range(order_from, order_to), columns=decimals)\n",
    "df_hcn = pd.DataFrame(cond_nums, index=range(order_from, order_to), columns=[\"spectral\", \"bulk\", \"angular\"])\n",
    "\n",
    "df_h = df_h.round(decimals=6)\n",
    "df_hcn = df_hcn.round(decimals=3)\n",
    "\n",
    "print(pd.concat([df_h, df_hcn], axis=1))"
   ]
  },
  {
   "cell_type": "markdown",
   "id": "0e3c7e07-f4aa-4e7d-bcdc-ed77614c4571",
   "metadata": {},
   "source": [
    "### Результаты для случайно сгенерированных матриц"
   ]
  },
  {
   "cell_type": "code",
   "execution_count": 14,
   "id": "4044e5c5-3bc7-43d6-83a4-d48018d372cb",
   "metadata": {},
   "outputs": [
    {
     "name": "stdout",
     "output_type": "stream",
     "text": [
      "            2         5         8  spectral          bulk  angular\n",
      "3    0.000000  0.000122  0.000000    36.225  1.848900e+01   16.352\n",
      "4    0.012874  0.000076  0.000000    19.669  2.249600e+01    5.274\n",
      "5    0.166070  0.000289  0.000000    59.753  1.406950e+02   15.010\n",
      "6    0.062170  0.000034  0.000000    29.045  1.178670e+02    6.017\n",
      "7    0.086572  0.000067  0.000000    72.797  1.839295e+03   16.270\n",
      "8    0.270005  0.000025  0.000000    83.649  2.874754e+03   16.641\n",
      "9    0.117894  0.000051  0.000000    66.972  3.299410e+03    8.449\n",
      "10   0.199915  0.000124  0.000000   159.697  2.470907e+04   23.402\n",
      "11   0.052955  0.000386  0.000000   240.092  9.295080e+04   32.899\n",
      "12   0.077039  0.000129  0.000000   142.125  8.897472e+05   17.455\n",
      "13   0.120423  0.000221  0.000000   187.702  4.541919e+05   28.892\n",
      "14   0.099669  0.000595  0.000000   431.992  9.031372e+06   56.851\n",
      "15  27.197247  0.007856  0.000005  2440.568  7.237406e+07  353.044\n",
      "16   0.092950  0.000090  0.000000   126.275  5.946921e+06   15.857\n",
      "17   0.275312  0.000130  0.000000   127.201  1.139681e+07   12.574\n",
      "18   0.142773  0.000161  0.000000   197.818  3.664341e+08   25.419\n",
      "19   1.965369  0.003111  0.000004  1213.845  1.274045e+09  155.706\n"
     ]
    }
   ],
   "source": [
    "res_random = []\n",
    "cond_nums = []\n",
    "\n",
    "for matr in random_matrices:\n",
    "    random_matrices_results = [experiment(matr, decimal) for decimal in decimals]\n",
    "    res_random.append(random_matrices_results)\n",
    "    cond_nums.append(compute_matr_condition_nums(matr))\n",
    "\n",
    "df_r = pd.DataFrame(res_random, index=range(order_from, order_to), columns=decimals)\n",
    "df_rcn = pd.DataFrame(cond_nums, index=range(order_from, order_to), columns=[\"spectral\", \"bulk\", \"angular\"])\n",
    "\n",
    "df_r = df_r.round(decimals=6)\n",
    "df_rcn = df_rcn.round(decimals=3)\n",
    "\n",
    "print(pd.concat([df_r, df_rcn], axis=1))"
   ]
  },
  {
   "cell_type": "markdown",
   "id": "3afe89d9-1b70-4451-a91a-ec6fd00786cf",
   "metadata": {},
   "source": [
    "### Результаты для трехдиагональных матриц с диагональным преобладанием"
   ]
  },
  {
   "cell_type": "code",
   "execution_count": 15,
   "id": "8191154b-d963-468e-97c4-cb9a1ab36a2a",
   "metadata": {
    "tags": []
   },
   "outputs": [
    {
     "name": "stdout",
     "output_type": "stream",
     "text": [
      "      2    5    8  spectral         bulk  angular\n",
      "3   0.0  0.0  0.0     7.211        3.062    3.000\n",
      "4   0.0  0.0  0.0    12.931        6.000    3.950\n",
      "5   0.0  0.0  0.0    20.739       12.247    5.339\n",
      "6   0.0  0.0  0.0    30.854       25.714    6.547\n",
      "7   0.0  0.0  0.0    43.474       55.114    8.124\n",
      "8   0.0  0.0  0.0    58.780      120.000    9.545\n",
      "9   0.0  0.0  0.0    76.943      264.545   11.292\n",
      "10  0.0  0.0  0.0    98.122      589.091   12.898\n",
      "11  0.0  0.0  0.0   122.471     1322.724   14.799\n",
      "12  0.0  0.0  0.0   150.133     2990.769   16.572\n",
      "13  0.0  0.0  0.0   181.248     6802.583   18.615\n",
      "14  0.0  0.0  0.0   215.950    15552.000   20.539\n",
      "15  0.0  0.0  0.0   254.366    35713.560   22.716\n",
      "16  0.0  0.0  0.0   296.621    82334.118   24.781\n",
      "17  0.0  0.0  0.0   342.835   190472.322   27.083\n",
      "18  0.0  0.0  0.0   393.126   442004.211   29.281\n",
      "19  0.0  0.0  0.0   447.606  1028550.541   31.702\n"
     ]
    }
   ],
   "source": [
    "res_tridiag = []\n",
    "cond_nums = []\n",
    "\n",
    "for matr in tridiagonal_matrices:\n",
    "    tridiag_results = [experiment(matr, decimal) for decimal in decimals]\n",
    "    res_tridiag.append(tridiag_results)\n",
    "    cond_nums.append(compute_matr_condition_nums(matr))\n",
    "\n",
    "df = pd.DataFrame(res_tridiag, index=range(order_from, order_to), columns=decimals)\n",
    "df1 = pd.DataFrame(cond_nums, index=range(order_from, order_to), columns=[\"spectral\", \"bulk\", \"angular\"])\n",
    "\n",
    "df = df.round(decimals=9)\n",
    "df1 = df1.round(decimals=3)\n",
    "\n",
    "print(pd.concat([df, df1], axis=1))"
   ]
  },
  {
   "cell_type": "code",
   "execution_count": null,
   "id": "ae36556b-51f3-4bea-8c5f-e0a591ba15bf",
   "metadata": {},
   "outputs": [],
   "source": []
  },
  {
   "cell_type": "code",
   "execution_count": null,
   "id": "e51034a2-3193-40ce-a585-410f71982c36",
   "metadata": {},
   "outputs": [],
   "source": []
  },
  {
   "cell_type": "code",
   "execution_count": null,
   "id": "93fd2056-6efe-4ab7-84e5-58aa19f70c4c",
   "metadata": {},
   "outputs": [],
   "source": []
  }
 ],
 "metadata": {
  "kernelspec": {
   "display_name": "Python 3 (ipykernel)",
   "language": "python",
   "name": "python3"
  },
  "language_info": {
   "codemirror_mode": {
    "name": "ipython",
    "version": 3
   },
   "file_extension": ".py",
   "mimetype": "text/x-python",
   "name": "python",
   "nbconvert_exporter": "python",
   "pygments_lexer": "ipython3",
   "version": "3.9.12"
  }
 },
 "nbformat": 4,
 "nbformat_minor": 5
}
