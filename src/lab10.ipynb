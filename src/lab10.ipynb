{
 "cells": [
  {
   "cell_type": "markdown",
   "metadata": {},
   "source": [
    "# Lab10\n",
    "\n",
    "---\n",
    "\n",
    "## Task\n",
    "\n",
    "Реализовать решение уравнения теплопроводности по двум схемам: одной из неявных и явной.\n",
    "\n",
    "Посмотреть на поведение решения по явной схеме при несоблюдении условий устойчивости.\n",
    "Результаты выводить либо графически (поверхность), либо численно (матрицу значений)."
   ]
  },
  {
   "cell_type": "markdown",
   "metadata": {},
   "source": [
    "# Solution\n",
    "\n",
    "---"
   ]
  },
  {
   "cell_type": "code",
   "execution_count": null,
   "metadata": {},
   "outputs": [],
   "source": [
    "import math\n",
    "import numpy as np\n",
    "\n",
    "import matplotlib.pyplot as plt\n",
    "import matplotlib.cm as cm"
   ]
  },
  {
   "cell_type": "markdown",
   "metadata": {},
   "source": [
    "### Явная схема"
   ]
  },
  {
   "cell_type": "code",
   "execution_count": null,
   "metadata": {},
   "outputs": [],
   "source": [
    "def grid(segment, n):\n",
    "    a, b = segment\n",
    "    return np.linspace(a, b, n)\n",
    "\n",
    "def is_sustained(kappa, tau, h):\n",
    "    if kappa * tau * 2 > h * h:\n",
    "        return True\n",
    "    return False\n",
    "\n",
    "def boundary_constraints(u_, a, Nx, Nt, t):\n",
    "    mesh_x = grid( (0, a), Nx + 1)\n",
    "    mesh_t = grid( (0, t), Nt + 1)\n",
    "    u = np.zeros( (Nx + 1, Nt + 1) )\n",
    "\n",
    "    for i in range(Nx + 1):\n",
    "        u[i, 0] = u_(mesh_x[i], 0)\n",
    "\n",
    "    for i in range(Nx + 1):\n",
    "        u[0, i] = u_(mesh_x[0], mesh_t[i])\n",
    "        u[Nx, i] = u_(mesh_x[Nx], mesh_t[i])\n",
    "\n",
    "    return mesh_x, mesh_t, u\n",
    "\n",
    "\n",
    "def explicit_scheme(u, f, a, t, kappa, Nx, Nt):\n",
    "    mesh_x, mesh_t, u_= boundary_constraints(u, a, Nx, Nt, t)\n",
    "\n",
    "    h = t / Nx\n",
    "    tau =  t / Nt\n",
    "\n",
    "    for t in range(1, Nt + 1):\n",
    "        for x in range(1, Nx):\n",
    "            diff = u_[x - 1, t - 1] - 2 * u_[x, t - 1] + u_[x + 1, t - 1]\n",
    "            u_[x, t] = u_[x, t - 1] + tau * (kappa / h**2 * diff + f(mesh_x[x], mesh_t[t - 1]))\n",
    "\n",
    "    sustained = is_sustained(kappa, tau, h)\n",
    "    X, T = np.meshgrid(mesh_x, mesh_t)\n",
    "\n",
    "    return X, T, u_, sustained"
   ]
  },
  {
   "cell_type": "markdown",
   "metadata": {},
   "source": [
    "### Неявная схема"
   ]
  },
  {
   "cell_type": "code",
   "execution_count": null,
   "metadata": {},
   "outputs": [],
   "source": [
    "def implicit_scheme(u, f, a, t, kappa, Nx, Nt):\n",
    "    mesh_x, mesh_t, u_ = boundary_constraints(u, a, Nx, Nt, t)\n",
    "    \n",
    "    h = t / Nx\n",
    "    tau =  t / Nt\n",
    "\n",
    "    for t in range(1, Nt + 1):\n",
    "        lbase = np.zeros( (Nx + 1, Nx + 1) )\n",
    "        rbase = np.zeros(Nx + 1)\n",
    "\n",
    "        lbase[0, 0] = -(tau * kappa / h + 1)\n",
    "        lbase[0, 1] = tau * kappa / h\n",
    "        rbase[0] = -u_[0, t - 1] - tau * f(mesh_x[0], mesh_t[t])\n",
    "\n",
    "        lbase[Nx, Nx] = tau * kappa / h - 1\n",
    "        lbase[Nx, Nx - 1] = -tau * kappa / h  \n",
    "        rbase[Nx] = -u_[Nx, t - 1] - tau * f(mesh_x[Nx], mesh_t[t])\n",
    "\n",
    "        for x in range(1, Nx):\n",
    "            lbase[x, x] = -2 * tau * kappa / (h * h) - 1\n",
    "            lbase[x, x - 1] = lbase[x, x + 1] = tau * kappa / (h * h)\n",
    "\n",
    "            rbase[x] = -u_[x, t - 1] - tau * f(mesh_x[x], mesh_t[t])\n",
    "\n",
    "        u_[:, t] = np.linalg.solve(lbase, rbase)\n",
    "\n",
    "    X, T = np.meshgrid(mesh_x, mesh_t)\n",
    "\n",
    "    return X, T, u_"
   ]
  },
  {
   "cell_type": "markdown",
   "metadata": {},
   "source": [
    "## Experimental reseach"
   ]
  },
  {
   "cell_type": "code",
   "execution_count": null,
   "metadata": {},
   "outputs": [],
   "source": [
    "def experiment(u, f, a, t, kappa, Nx, Nt):\n",
    "    fig = plt.figure(figsize=(25, 10))\n",
    "    \n",
    "    ax_left = fig.add_subplot(121, projection = \"3d\")\n",
    "    ax_right = fig.add_subplot(122, projection = \"3d\")\n",
    "\n",
    "    mesh_x, mesh_t, result, is_sustained = explicit_scheme(u, f, a, t, kappa, Nx, Nt)\n",
    "    ax_left.plot_surface(mesh_x, mesh_t, result, cmap=cm.viridis)\n",
    "\n",
    "    mesh_x, mesh_t, result               = implicit_scheme(u, f, a, t, kappa, Nx, Nt)\n",
    "    ax_right.plot_surface(mesh_x, mesh_t, result, cmap=cm.viridis)\n",
    "\n",
    "    ax_left.set_title(f\"Explicit. Is_sustained: {is_sustained}\")\n",
    "    ax_right.set_title(\"Implicit\")\n",
    "    \n",
    "    plt.show()"
   ]
  },
  {
   "cell_type": "code",
   "execution_count": null,
   "metadata": {},
   "outputs": [],
   "source": [
    "kappa = 0.01\n",
    "a, T = 10, 10\n",
    "Nx, Nt = 20, 20\n",
    "\n",
    "u = lambda x, t: x * t\n",
    "f = lambda x, t: x\n",
    "\n",
    "experiment(u, f, a, T, kappa, Nx, Nt)"
   ]
  },
  {
   "cell_type": "code",
   "execution_count": null,
   "metadata": {},
   "outputs": [],
   "source": [
    "kappa = 0.01\n",
    "a, T = 10, 10\n",
    "Nx, Nt = 20, 20\n",
    "\n",
    "u = lambda x, t: x**2 * t\n",
    "f = lambda x, t: x**2 - 2 * t\n",
    "\n",
    "experiment(u, f, a, T, kappa, Nx, Nt)"
   ]
  },
  {
   "cell_type": "code",
   "execution_count": null,
   "metadata": {},
   "outputs": [],
   "source": [
    "kappa = 0.1\n",
    "a, T = 10, 10\n",
    "Nx, Nt = 100, 100\n",
    "\n",
    "u = lambda x, t: x**2 * t\n",
    "f = lambda x, t: 2 * kappa - 2 * t\n",
    "\n",
    "experiment(u, f, a, T, kappa, Nx, Nt)"
   ]
  },
  {
   "cell_type": "code",
   "execution_count": null,
   "metadata": {},
   "outputs": [],
   "source": [
    "kappa = 0.01\n",
    "a, T = 10, 10\n",
    "Nx, Nt = 20, 20\n",
    "\n",
    "u = lambda x, t: x ** 2 / 2 - t ** 2 / 2\n",
    "f = lambda x, t: 2 * kappa  - 2 * t / 2\n",
    "\n",
    "experiment(u, f, a, T, kappa, Nx, Nt)"
   ]
  },
  {
   "cell_type": "code",
   "execution_count": null,
   "metadata": {},
   "outputs": [],
   "source": [
    "kappa = 0.001\n",
    "a, T = 10, 10\n",
    "Nx, Nt = 20, 20\n",
    "\n",
    "u = lambda x, t: x**3 + t**3\n",
    "f = lambda x, t: 3 * t**2 - kappa * 6 * x\n",
    "\n",
    "experiment(u, f, a, T, kappa, Nx, Nt)"
   ]
  }
 ],
 "metadata": {
  "interpreter": {
   "hash": "baaf916ca6c4ce979e8147ddecfa27bf3f96ad18e9f19ff9b194c54fcb57b5ff"
  },
  "kernelspec": {
   "display_name": "Python 3 (ipykernel)",
   "language": "python",
   "name": "python3"
  },
  "language_info": {
   "codemirror_mode": {
    "name": "ipython",
    "version": 3
   },
   "file_extension": ".py",
   "mimetype": "text/x-python",
   "name": "python",
   "nbconvert_exporter": "python",
   "pygments_lexer": "ipython3",
   "version": "3.9.12"
  }
 },
 "nbformat": 4,
 "nbformat_minor": 4
}
