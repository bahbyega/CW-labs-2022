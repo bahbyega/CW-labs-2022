{
 "cells": [
  {
   "cell_type": "markdown",
   "metadata": {},
   "source": [
    "# Lab14\n",
    "\n",
    "---\n",
    "\n",
    "## Task\n",
    "\n",
    "Построить кластеризации (для одинаковых N и k), используя несколько разных «расстояний» и разные начальные центры (например, рандомные, крайние (≈ max/min по координатам, первые в списке, т.п.)\n",
    "\n",
    "Результат — на рисунке (точки разных кластеров изобразить разными цветами; отметить центры кластеров). Т.е. в итоге — не менее 4-х рисунков. Выводить также количество итераций, потребовавшихся для стабилизации кластеров в каждом из случаев."
   ]
  },
  {
   "cell_type": "markdown",
   "metadata": {},
   "source": [
    "# Solution\n",
    "\n",
    "---"
   ]
  },
  {
   "cell_type": "code",
   "execution_count": null,
   "metadata": {},
   "outputs": [],
   "source": [
    "import numpy as np\n",
    "import scipy.linalg as la\n",
    "\n",
    "import matplotlib.pyplot as plt"
   ]
  },
  {
   "cell_type": "markdown",
   "metadata": {},
   "source": [
    "### Clustering implementation"
   ]
  },
  {
   "cell_type": "code",
   "execution_count": null,
   "metadata": {},
   "outputs": [],
   "source": [
    "def euclidian(a, b):\n",
    "    return np.sum(np.abs(a - b), axis=1)\n",
    "\n",
    "def manhattan(a, b):\n",
    "    return np.sum(np.abs(a - b), axis=1)\n",
    "\n",
    "def clustering(points, centers, metric):\n",
    "    if metric == \"manhattan\":\n",
    "        return np.array([np.argmin(manhattan(x,centers)) for x in points])\n",
    "    elif metric == \"euclidian\":\n",
    "        return np.array([np.argmin(euclidian(x,centers)) for x in points])\n",
    "    else:\n",
    "        raise ValueError(\"Wrong metric\")\n",
    "\n",
    "def compute_centers(points, clusters):\n",
    "    ans = []\n",
    "    for i in np.unique(clusters):\n",
    "        cluster = points[clusters == i] \n",
    "        if cluster is not None:\n",
    "            ans.append(np.mean(cluster, axis = 0))\n",
    "    return np.array(ans)\n",
    "\n",
    "def kmeans(points, centers, metric=\"euclid\", max_iter=100):\n",
    "    iter = 0\n",
    "    \n",
    "    while iter < max_iter:\n",
    "        clusters = clustering(points, centers, metric)\n",
    "        centers = compute_centers(points, clusters)\n",
    "\n",
    "        iter +=1\n",
    "\n",
    "        if all(clusters == clustering(points, centers, metric)):\n",
    "            return clusters, centers, iter"
   ]
  },
  {
   "cell_type": "markdown",
   "metadata": {},
   "source": [
    "### Points generators"
   ]
  },
  {
   "cell_type": "code",
   "execution_count": null,
   "metadata": {},
   "outputs": [],
   "source": [
    "def generate_random_points(low, high, size):\n",
    "    return np.random.uniform(low, high, size)\n",
    "\n",
    "def generate_leftmost_centers(points, k):\n",
    "    return [points[i] for i in range(k)]\n",
    "\n",
    "def generate_random_centers(points, k):\n",
    "    return points[np.random.choice(len(points),k)]"
   ]
  },
  {
   "cell_type": "markdown",
   "metadata": {},
   "source": [
    "## Experimental reseach"
   ]
  },
  {
   "cell_type": "code",
   "execution_count": null,
   "metadata": {},
   "outputs": [],
   "source": [
    "def experiment(points, _centers, metric):\n",
    "    _, axes = plt.subplots(1, 2, figsize=(13, 13))\n",
    "    \n",
    "    for i in range(2):\n",
    "        clusters, centers, iterations = kmeans(points, _centers[i], metric)\n",
    "        \n",
    "        axes[i].scatter(points[:,0], points[:,1], c=clusters)\n",
    "        axes[i].scatter(centers[:,0], centers[:,1], c=\"blue\", s=30, marker=\"X\")\n",
    "        axes[i].set_title(f\"Metric: {metric}, Iterations: {iterations}\")"
   ]
  },
  {
   "cell_type": "code",
   "execution_count": null,
   "metadata": {},
   "outputs": [],
   "source": [
    "k = 4\n",
    "points = generate_random_points(-40, 40, (80, 2))\n",
    "centers = generate_leftmost_centers(points, k), generate_random_centers(points, k)\n",
    "\n",
    "experiment(points, centers, \"manhattan\")\n",
    "experiment(points, centers, \"euclidian\")"
   ]
  }
 ],
 "metadata": {
  "interpreter": {
   "hash": "baaf916ca6c4ce979e8147ddecfa27bf3f96ad18e9f19ff9b194c54fcb57b5ff"
  },
  "kernelspec": {
   "display_name": "Python 3 (ipykernel)",
   "language": "python",
   "name": "python3"
  },
  "language_info": {
   "codemirror_mode": {
    "name": "ipython",
    "version": 3
   },
   "file_extension": ".py",
   "mimetype": "text/x-python",
   "name": "python",
   "nbconvert_exporter": "python",
   "pygments_lexer": "ipython3",
   "version": "3.9.12"
  }
 },
 "nbformat": 4,
 "nbformat_minor": 4
}
