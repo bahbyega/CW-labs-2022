{
 "cells": [
  {
   "cell_type": "markdown",
   "metadata": {},
   "source": [
    "# Lab14\n",
    "\n",
    "---\n",
    "\n",
    "## Task\n",
    "\n",
    "Построить кластеризации (для одинаковых N и k), используя несколько разных «расстояний» и разные начальные центры (например, рандомные, крайние (≈ max/min по координатам, первые в списке, т.п.)\n",
    "\n",
    "Результат — на рисунке (точки разных кластеров изобразить разными цветами; отметить центры кластеров). Т.е. в итоге — не менее 4-х рисунков. Выводить также количество итераций, потребовавшихся для стабилизации кластеров в каждом из случаев."
   ]
  },
  {
   "cell_type": "markdown",
   "metadata": {},
   "source": [
    "# Solution\n",
    "\n",
    "---"
   ]
  },
  {
   "cell_type": "code",
   "execution_count": null,
   "metadata": {},
   "outputs": [],
   "source": [
    "import math\n",
    "import numpy as np\n",
    "import scipy.linalg as la\n",
    "\n",
    "import matplotlib.pyplot as plt\n",
    "import matplotlib.cm as cm"
   ]
  },
  {
   "cell_type": "code",
   "execution_count": null,
   "metadata": {},
   "outputs": [],
   "source": [
    "def euclidian(a, b):\n",
    "    return np.sum(np.abs(a - b))\n",
    "\n",
    "def manhattan(a, b):\n",
    "    return np.sum(np.abs(a - b), axis=1)\n",
    "\n",
    "def clustering(points, centers, metric):\n",
    "    if metric == \"manhattan\":\n",
    "        return np.array([np.argmin(manhattan(x,centers)) for x in points])\n",
    "    else:\n",
    "        return np.array([np.argmin(la.norm(x-centers, axis=1)) for x in points])\n",
    "\n",
    "def kmeans(points, centers, metric=\"euclid\", max_iter=100):\n",
    "    iter = 0\n",
    "    \n",
    "    while iter < max_iter:\n",
    "        clusters = clustering(points, centers, metric)\n",
    "        centers = compute_centers(points, clusters)\n",
    "\n",
    "        iter +=1\n",
    "\n",
    "        if all(clusters == clustering(points, centers, metric)):\n",
    "            if metric == \"manhattan\":\n",
    "                diams = np.array([round(np.max(manhattan(centers[i],points[clusters == i])),3) for i in range(len(centers))])\n",
    "            else:\n",
    "                diams = np.array([round(np.max(la.norm(X[clusters == i]-centers[i],axis=1)),3)for i in range(len(centers))])\n",
    "            return clusters, centers, iter\n",
    "\n",
    "def first_k_centers(points, k):\n",
    "    return [points[i] for i in range(k)]\n",
    "\n",
    "def random_centers(points, k):\n",
    "    return points[np.random.choice(len(points), k)]\n",
    "\n",
    "def compute_centers(points, clusters):\n",
    "    ans = []\n",
    "    for i in np.unique(clusters):\n",
    "        cluster = points[clusters == i] \n",
    "        if cluster is not None:\n",
    "            ans.append(np.mean(cluster, axis = 0))\n",
    "    return np.array(ans)\n",
    "\n",
    "def get_random_points(number_of_points):\n",
    "    return list(map(tuple, np.random.rand(number_of_points, 2)))"
   ]
  },
  {
   "cell_type": "markdown",
   "metadata": {},
   "source": [
    "## Experimental reseach"
   ]
  },
  {
   "cell_type": "code",
   "execution_count": null,
   "metadata": {},
   "outputs": [],
   "source": [
    "def experiment(points, k, metric, center):\n",
    "    fig, axes = plt.subplots(1, 2,figsize=(13,13))\n",
    "\n",
    "    for i in range(2):\n",
    "        clusters, cent, k = kmeans(points, centers[i], metric[i])\n",
    "        axes[0, i].scatter(points[:,0], points[:,1], c=clusters)\n",
    "        axes[0, i].scatter(cent[:][0],cent[:,1], c=\"bladk\", s=30, marker=\"D\")\n",
    "        # axes[0, i].set_title(\"Metrics: {}; Centers choice: {}; \\n Iters: {} \\n diams: {}\".format(metrics[i],centers_name[j],k,diams))"
   ]
  },
  {
   "cell_type": "code",
   "execution_count": null,
   "metadata": {},
   "outputs": [],
   "source": [
    "n = 1000\n",
    "k = 4\n",
    "\n",
    "X = np.random.uniform(low=-40,high=40,size=(80,2))\n",
    "centers = [\n",
    "    random_centers(X , k),\n",
    "    random_centers(X , k)\n",
    "]\n",
    "metric = [\"euclid\", \"manhattan\"]\n",
    "\n",
    "experiment(X, k, \"manhattan\", centers)"
   ]
  },
  {
   "cell_type": "code",
   "execution_count": null,
   "metadata": {},
   "outputs": [],
   "source": []
  }
 ],
 "metadata": {
  "interpreter": {
   "hash": "baaf916ca6c4ce979e8147ddecfa27bf3f96ad18e9f19ff9b194c54fcb57b5ff"
  },
  "kernelspec": {
   "display_name": "Python 3 (ipykernel)",
   "language": "python",
   "name": "python3"
  },
  "language_info": {
   "codemirror_mode": {
    "name": "ipython",
    "version": 3
   },
   "file_extension": ".py",
   "mimetype": "text/x-python",
   "name": "python",
   "nbconvert_exporter": "python",
   "pygments_lexer": "ipython3",
   "version": "3.9.12"
  }
 },
 "nbformat": 4,
 "nbformat_minor": 4
}
