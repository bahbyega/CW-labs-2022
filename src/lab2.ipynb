{
 "cells": [
  {
   "cell_type": "markdown",
   "metadata": {},
   "source": [
    "# Lab2\n",
    "\n",
    "---\n",
    "\n",
    "## Task\n",
    "\n",
    "Реализовать метод решения СЛАУ, на выбор: LU-разложение или метод квадратного корня. Для матриц A, L, U вычислить числа обусловленности (см. задание 1).\n",
    "\n",
    "Протестировать на разных матрицах: хорошо обусловленных, (очень) плохо обусловленных.\n",
    "\n",
    "Для нескольких плохо обусловленных матриц (например, для матриц Гильберта разного, больше 15, порядка) реализовать метод регуляризации:\n",
    "- параметр α варьировать в пределах от 10<sup>-12</sup> до 10<sup>-1</sup>\n",
    "- для каждого конкретного значения α найти числа обусловленности (матриц A + αE) и норму погрешности получившегося решения\n",
    "- понять, какое значениe α = α в каждом конкретном случае (= для каждой конкретной матрицы) кажется наилучшим\n",
    "\n",
    "Наилучшее α можно\n",
    "- находить из предположений, что точным решением является вектор x_0 = (1, 1, ... , 1)<sup>T</sup>\n",
    "- находить из предположений, что точным решением является случайный вектор x_0\n",
    "Проверить результат на (другом) случайном векторе x_0."
   ]
  },
  {
   "cell_type": "markdown",
   "metadata": {},
   "source": [
    "## Solution\n",
    "\n",
    "--- \n",
    "\n",
    "LU decomposition is used."
   ]
  },
  {
   "cell_type": "code",
   "execution_count": null,
   "metadata": {},
   "outputs": [],
   "source": [
    "from scipy import linalg as la\n",
    "\n",
    "def lu_solve(A, b):\n",
    "    lu, pivot = la.lu_factor(A)\n",
    "    sol = la.lu_solve((lu, pivot), b)\n",
    "    return sol"
   ]
  },
  {
   "cell_type": "markdown",
   "metadata": {},
   "source": [
    "## Experimental research\n",
    "\n",
    "---"
   ]
  },
  {
   "cell_type": "code",
   "execution_count": null,
   "metadata": {},
   "outputs": [],
   "source": [
    "from utils.cond_nums import *\n",
    "from utils.matrices import *"
   ]
  },
  {
   "cell_type": "code",
   "execution_count": null,
   "metadata": {},
   "outputs": [],
   "source": [
    "def print_cond_nums_for_A_L_U(A):\n",
    "    _, L, U = la.lu(A)\n",
    "    for name, matr in ((\"A\", A), (\"L\", L), (\"U\", U)):\n",
    "        spec_cn, bulk_cn, ang_cn = compute_matr_condition_nums(matr)\n",
    "        print(f\"Matrix {name}:\")\n",
    "        print(f\"    Spectral condition number : {spec_cn}\")\n",
    "        print(f\"    Bulk condition number     : {bulk_cn}\")\n",
    "        print(f\"    Angular condition number  : {ang_cn}\")"
   ]
  },
  {
   "cell_type": "markdown",
   "metadata": {},
   "source": [
    "### Tests on different matrices:\n",
    "- randomly generated matrix\n",
    "- randomly generated sparse matrix\n",
    "- tridiagonal diagonally dominant matrix\n",
    "- hilbert matrices"
   ]
  },
  {
   "cell_type": "code",
   "execution_count": null,
   "metadata": {
    "tags": []
   },
   "outputs": [],
   "source": [
    "rank = 50"
   ]
  },
  {
   "cell_type": "code",
   "execution_count": null,
   "metadata": {},
   "outputs": [],
   "source": [
    "A = create_random_matrix(rank)\n",
    "print_cond_nums_for_A_L_U(A)"
   ]
  },
  {
   "cell_type": "code",
   "execution_count": null,
   "metadata": {},
   "outputs": [],
   "source": [
    "A = create_random_sparse_matrix(rank)\n",
    "print_cond_nums_for_A_L_U(A)"
   ]
  },
  {
   "cell_type": "code",
   "execution_count": null,
   "metadata": {},
   "outputs": [],
   "source": [
    "A = create_tridiagonal_matrix(rank)\n",
    "print_cond_nums_for_A_L_U(A)"
   ]
  },
  {
   "cell_type": "markdown",
   "metadata": {},
   "source": [
    "### Hilbert matrices"
   ]
  },
  {
   "cell_type": "markdown",
   "metadata": {},
   "source": [
    "First we evaluate the alpha using regularization method"
   ]
  },
  {
   "cell_type": "code",
   "execution_count": null,
   "metadata": {},
   "outputs": [],
   "source": [
    "import numpy as np\n",
    "\n",
    "def alpha_evaluation(matr, alpha_range):\n",
    "    \"\"\"\n",
    "    Regularization method\n",
    "    \"\"\"\n",
    "    n, m = matr.shape\n",
    "    id_vect = np.ones(m)\n",
    "    b = matr.dot(id_vect)\n",
    "    \n",
    "    differences = []\n",
    "    stability = []\n",
    "\n",
    "    for alpha in alpha_range:\n",
    "        varied_matr = matr + np.eye(m) * 10 ** alpha\n",
    "        \n",
    "        sol_lu = lu_solve(varied_matr, b)\n",
    "\n",
    "        difference = la.norm(id_vect - sol_lu)\n",
    "        differences.append(difference)\n",
    "\n",
    "        cond_number = bulk_condition_nums(varied_matr)\n",
    "        stability.append(cond_number)\n",
    "\n",
    "    return differences, stability\n",
    "\n",
    "alpha_range = range(-12, -1)\n",
    "rank = 30\n",
    "hilbert_matrix = create_hilbert_matrix(rank)\n",
    "differences, stability = alpha_evaluation(hilbert_matrix, alpha_range)"
   ]
  },
  {
   "cell_type": "code",
   "execution_count": null,
   "metadata": {},
   "outputs": [],
   "source": [
    "import matplotlib.pyplot as plt\n",
    "\n",
    "plt.title(\"Alpha evaluation\")\n",
    "plt.plot(alpha_range, differences)\n",
    "plt.xlabel(\"Alpha\")\n",
    "plt.ylabel(\"Error norm\")\n",
    "plt.show()\n",
    "\n",
    "plt.title(\"Solution stability\")\n",
    "plt.plot(alpha_range, stability)\n",
    "plt.yscale(\"log\", base=10)\n",
    "plt.xlabel(\"Alpha\")\n",
    "plt.ylabel(\"Conditional number\")\n",
    "plt.show()"
   ]
  },
  {
   "cell_type": "markdown",
   "metadata": {},
   "source": [
    "Then we test alpha value on other x_0"
   ]
  },
  {
   "cell_type": "code",
   "execution_count": null,
   "metadata": {},
   "outputs": [],
   "source": [
    "alpha = 10 ** (-6)\n",
    "\n",
    "def experiment(matr, alpha):\n",
    "    n, m = matr.shape\n",
    "    x_0 = np.random.rand(m)\n",
    "    b = matr.dot(x_0)\n",
    "\n",
    "    varied_matr = matr + np.eye(m) * 10 ** alpha\n",
    "    sol_lu = lu_solve(varied_matr, b)\n",
    "\n",
    "    return la.norm(x_0 - sol_lu)\n",
    "\n",
    "print(experiment(hilbert_matrix, alpha))"
   ]
  },
  {
   "cell_type": "code",
   "execution_count": null,
   "metadata": {},
   "outputs": [],
   "source": []
  }
 ],
 "metadata": {
  "interpreter": {
   "hash": "baaf916ca6c4ce979e8147ddecfa27bf3f96ad18e9f19ff9b194c54fcb57b5ff"
  },
  "kernelspec": {
   "display_name": "Python 3 (ipykernel)",
   "language": "python",
   "name": "python3"
  },
  "language_info": {
   "codemirror_mode": {
    "name": "ipython",
    "version": 3
   },
   "file_extension": ".py",
   "mimetype": "text/x-python",
   "name": "python",
   "nbconvert_exporter": "python",
   "pygments_lexer": "ipython3",
   "version": "3.9.12"
  }
 },
 "nbformat": 4,
 "nbformat_minor": 4
}
