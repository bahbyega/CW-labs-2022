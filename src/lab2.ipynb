{
 "cells": [
  {
   "cell_type": "markdown",
   "metadata": {},
   "source": [
    "# Lab2\n",
    "\n",
    "---\n",
    "\n",
    "## Task\n",
    "\n",
    "Реализовать метод решения СЛАУ, на выбор: LU-разложение или метод квадратного корня. Для матриц A, L, U вычислить числа обусловленности (см. задание 1).\n",
    "\n",
    "Протестировать на разных матрицах: хорошо обусловленных, (очень) плохо обусловленных.\n",
    "\n",
    "Для нескольких плохо обусловленных матриц (например, для матриц Гильберта разного, больше 15, порядка) реализовать метод регуляризации:\n",
    "- параметр α варьировать в пределах от 10<sup>-12</sup> до 10<sup>-1</sup>\n",
    "- для каждого конкретного значения α найти числа обусловленности (матриц A + αE) и норму погрешности получившегося решения\n",
    "- понять, какое значениe α = α в каждом конкретном случае (= для каждой конкретной матрицы) кажется наилучшим\n",
    "\n",
    "Наилучшее α можно\n",
    "- находить из предположений, что точным решением является вектор x_0 = (1, 1, ... , 1)<sup>T</sup>\n",
    "- находить из предположений, что точным решением является случайный вектор x_0\n",
    "Проверить результат на (другом) случайном векторе x_0."
   ]
  },
  {
   "cell_type": "markdown",
   "metadata": {},
   "source": [
    "## Solution\n",
    "\n",
    "--- \n",
    "\n",
    "LU decomposition is used."
   ]
  },
  {
   "cell_type": "code",
   "execution_count": 89,
   "metadata": {},
   "outputs": [],
   "source": [
    "from scipy import linalg as la\n",
    "\n",
    "def lu_solve(A, b):\n",
    "    lu, pivot = la.lu_factor(A)\n",
    "    sol = la.lu_solve((lu, pivot), b)\n",
    "    return sol"
   ]
  },
  {
   "cell_type": "markdown",
   "metadata": {},
   "source": [
    "## Experimental research\n",
    "\n",
    "---"
   ]
  },
  {
   "cell_type": "code",
   "execution_count": 90,
   "metadata": {},
   "outputs": [],
   "source": [
    "from utils.cond_nums import *\n",
    "from utils.matrices import *"
   ]
  },
  {
   "cell_type": "code",
   "execution_count": 91,
   "metadata": {},
   "outputs": [],
   "source": [
    "def print_cond_nums_for_A_L_U(A):\n",
    "    _, L, U = la.lu(A)\n",
    "    for name, matr in ((\"A\", A), (\"L\", L), (\"U\", U)):\n",
    "        spec_cn, bulk_cn, ang_cn = compute_matr_condition_nums(matr)\n",
    "        print(f\"Matrix {name}:\")\n",
    "        print(f\"    Spectral condition number : {spec_cn}\")\n",
    "        print(f\"    Bulk condition number     : {bulk_cn}\")\n",
    "        print(f\"    Angular condition number  : {ang_cn}\")"
   ]
  },
  {
   "cell_type": "markdown",
   "metadata": {},
   "source": [
    "### Tests on different matrices:\n",
    "- randomly generated matrix\n",
    "- randomly generated sparse matrix\n",
    "- tridiagonal diagonally dominant matrix\n",
    "- hilbert matrices"
   ]
  },
  {
   "cell_type": "code",
   "execution_count": 92,
   "metadata": {
    "tags": []
   },
   "outputs": [],
   "source": [
    "rank = 50"
   ]
  },
  {
   "cell_type": "code",
   "execution_count": 93,
   "metadata": {},
   "outputs": [
    {
     "name": "stdout",
     "output_type": "stream",
     "text": [
      "Matrix A:\n",
      "    Spectral condition number : 1731.8025375014724\n",
      "    Bulk condition number     : 7.094627594335242e+25\n",
      "    Angular condition number  : 86.42380034807194\n",
      "Matrix L:\n",
      "    Spectral condition number : 332.02097072391285\n",
      "    Bulk condition number     : 1.445598510526072e+17\n",
      "    Angular condition number  : 9.425380564259177\n",
      "Matrix U:\n",
      "    Spectral condition number : 647.1944384661543\n",
      "    Bulk condition number     : 1.4577904792290827e+21\n",
      "    Angular condition number  : 14.717813092661554\n"
     ]
    }
   ],
   "source": [
    "A = create_random_matrix(rank)\n",
    "print_cond_nums_for_A_L_U(A)"
   ]
  },
  {
   "cell_type": "code",
   "execution_count": 94,
   "metadata": {},
   "outputs": [
    {
     "name": "stdout",
     "output_type": "stream",
     "text": [
      "Matrix A:\n",
      "    Spectral condition number : 1614.6769848155695\n",
      "    Bulk condition number     : 40679038795488.016\n",
      "    Angular condition number  : 79.07312357295625\n",
      "Matrix L:\n",
      "    Spectral condition number : 275.75161541688374\n",
      "    Bulk condition number     : 90391696787666.66\n",
      "    Angular condition number  : 7.195875354203209\n",
      "Matrix U:\n",
      "    Spectral condition number : 771.8704195162892\n",
      "    Bulk condition number     : 3.9213707429447885e+17\n",
      "    Angular condition number  : 19.40207270570643\n"
     ]
    }
   ],
   "source": [
    "A = create_random_sparse_matrix(rank)\n",
    "print_cond_nums_for_A_L_U(A)"
   ]
  },
  {
   "cell_type": "code",
   "execution_count": 95,
   "metadata": {},
   "outputs": [
    {
     "name": "stdout",
     "output_type": "stream",
     "text": [
      "Matrix A:\n",
      "    Spectral condition number : 4735.171708725123\n",
      "    Bulk condition number     : 4.6454719003152486e+17\n",
      "    Angular condition number  : 128.7686784471261\n",
      "Matrix L:\n",
      "    Spectral condition number : 204.33179561526424\n",
      "    Bulk condition number     : 4219726.760059952\n",
      "    Angular condition number  : 5.025090881737102\n",
      "Matrix U:\n",
      "    Spectral condition number : 213.87091250535946\n",
      "    Bulk condition number     : 4219726.760059952\n",
      "    Angular condition number  : 5.745148796495815\n"
     ]
    }
   ],
   "source": [
    "A = create_tridiagonal_matrix(rank)\n",
    "print_cond_nums_for_A_L_U(A)"
   ]
  },
  {
   "cell_type": "markdown",
   "metadata": {},
   "source": [
    "### Hilbert matrices"
   ]
  },
  {
   "cell_type": "markdown",
   "metadata": {},
   "source": [
    "First we evaluate the alpha using regularization method"
   ]
  },
  {
   "cell_type": "code",
   "execution_count": 96,
   "metadata": {},
   "outputs": [],
   "source": [
    "import numpy as np\n",
    "\n",
    "def alpha_evaluation(matr, alpha_range):\n",
    "    \"\"\"\n",
    "    Regularization method\n",
    "    \"\"\"\n",
    "    n, m = matr.shape\n",
    "    id_vect = np.ones(m)\n",
    "    b = matr.dot(id_vect)\n",
    "    \n",
    "    differences = []\n",
    "    stability = []\n",
    "\n",
    "    for alpha in alpha_range:\n",
    "        varied_matr = matr + np.eye(m) * 10 ** alpha\n",
    "        \n",
    "        sol_lu = lu_solve(varied_matr, b)\n",
    "\n",
    "        difference = la.norm(id_vect - sol_lu)\n",
    "        differences.append(difference)\n",
    "\n",
    "        cond_number = bulk_condition_nums(varied_matr)\n",
    "        stability.append(cond_number)\n",
    "\n",
    "    return differences, stability\n",
    "\n",
    "alpha_range = range(-12, -1)\n",
    "rank = 30\n",
    "hilbert_matrix = create_hilbert_matrix(rank)\n",
    "differences, stability = alpha_evaluation(hilbert_matrix, alpha_range)"
   ]
  },
  {
   "cell_type": "code",
   "execution_count": 97,
   "metadata": {},
   "outputs": [
    {
     "data": {
      "image/png": "[encoded data removed]",
      "text/plain": [
       "<Figure size 432x288 with 1 Axes>"
      ]
     },
     "metadata": {
      "needs_background": "light"
     },
     "output_type": "display_data"
    },
    {
     "data": {
      "image/png": "[encoded data removed]",
      "text/plain": [
       "<Figure size 432x288 with 1 Axes>"
      ]
     },
     "metadata": {
      "needs_background": "light"
     },
     "output_type": "display_data"
    }
   ],
   "source": [
    "import matplotlib.pyplot as plt\n",
    "\n",
    "plt.title(\"Alpha evaluation\")\n",
    "plt.plot(alpha_range, differences)\n",
    "plt.xlabel(\"Alpha\")\n",
    "plt.ylabel(\"Error norm\")\n",
    "plt.show()\n",
    "\n",
    "plt.title(\"Solution stability\")\n",
    "plt.plot(alpha_range, stability)\n",
    "plt.yscale(\"log\", base=10)\n",
    "plt.xlabel(\"Alpha\")\n",
    "plt.ylabel(\"Conditional number\")\n",
    "plt.show()"
   ]
  },
  {
   "cell_type": "markdown",
   "metadata": {},
   "source": [
    "Then we test alpha value on other x_0"
   ]
  },
  {
   "cell_type": "code",
   "execution_count": 98,
   "metadata": {},
   "outputs": [
    {
     "name": "stdout",
     "output_type": "stream",
     "text": [
      "2.368718924417382\n"
     ]
    }
   ],
   "source": [
    "alpha = 10 ** (-6)\n",
    "\n",
    "def experiment(matr, alpha):\n",
    "    n, m = matr.shape\n",
    "    x_0 = np.random.rand(m)\n",
    "    b = matr.dot(x_0)\n",
    "\n",
    "    varied_matr = matr + np.eye(m) * 10 ** alpha\n",
    "    sol_lu = lu_solve(varied_matr, b)\n",
    "\n",
    "    return la.norm(x_0 - sol_lu)\n",
    "\n",
    "print(experiment(hilbert_matrix, alpha))"
   ]
  },
  {
   "cell_type": "code",
   "execution_count": null,
   "metadata": {},
   "outputs": [],
   "source": []
  }
 ],
 "metadata": {
  "interpreter": {
   "hash": "baaf916ca6c4ce979e8147ddecfa27bf3f96ad18e9f19ff9b194c54fcb57b5ff"
  },
  "kernelspec": {
   "display_name": "Python 3 (ipykernel)",
   "language": "python",
   "name": "python3"
  },
  "language_info": {
   "codemirror_mode": {
    "name": "ipython",
    "version": 3
   },
   "file_extension": ".py",
   "mimetype": "text/x-python",
   "name": "python",
   "nbconvert_exporter": "python",
   "pygments_lexer": "ipython3",
   "version": "3.9.12"
  }
 },
 "nbformat": 4,
 "nbformat_minor": 4
}
