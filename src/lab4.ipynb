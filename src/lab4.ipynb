{
 "cells": [
  {
   "cell_type": "markdown",
   "metadata": {},
   "source": [
    "# Lab3\n",
    "\n",
    "---\n",
    "\n",
    "## Task\n",
    "\n",
    "- Реализовать решение СЛАУ двумя итерационными методами: методом простой итерации + методом Зейделя или методом релаксации.\n",
    "- Сравнить количество итераций.\n",
    "- Находить решения с разной точностью (т.е. варьировать ε, до достижения которого проводятся итерации). Может быть между ε и количеством итераций k есть зависимость?\n",
    "- Протестироваться работу методов на плохо обусловленных матрицах - например, на примере из методички А.Н. Пакуниной и на матрице Гильберта"
   ]
  },
  {
   "cell_type": "markdown",
   "metadata": {},
   "source": [
    "# Solution\n",
    "\n",
    "---"
   ]
  },
  {
   "cell_type": "code",
   "execution_count": null,
   "metadata": {},
   "outputs": [],
   "source": [
    "import numpy as np\n",
    "from scipy import linalg as la\n",
    "from utils.matrices import *"
   ]
  },
  {
   "cell_type": "markdown",
   "metadata": {},
   "source": [
    "### Метод простых итераций"
   ]
  },
  {
   "cell_type": "code",
   "execution_count": null,
   "metadata": {},
   "outputs": [],
   "source": [
    "def solve_simple_iteration(A, b, error):\n",
    "    pass"
   ]
  },
  {
   "cell_type": "markdown",
   "metadata": {},
   "source": [
    "### Метод Зейделя"
   ]
  },
  {
   "cell_type": "code",
   "execution_count": null,
   "metadata": {},
   "outputs": [],
   "source": [
    "\n",
    "\n",
    "def solve_seidel_method(A, b, error):\n",
    "    pass\n"
   ]
  },
  {
   "cell_type": "markdown",
   "metadata": {},
   "source": [
    "## Experimental research"
   ]
  },
  {
   "cell_type": "code",
   "execution_count": null,
   "metadata": {},
   "outputs": [],
   "source": [
    "def experiment(A, b, error):\n",
    "    x_si, iter_si = solve_simple_iteration(A, b, error)\n",
    "    x_se, iter_se = solve_seidel_method(A, b, error)\n",
    "    \n",
    "    print(f\"- Simple iteration : {x_si}, {iter_si} iterations\")\n",
    "    print(f\"- Seidel           : {x_se}, {iter_se} iterations\")\n",
    "    print()\n",
    "    \n",
    "    expected = la.solve(A, b)\n",
    "    return expected"
   ]
  },
  {
   "cell_type": "markdown",
   "metadata": {},
   "source": [
    "### Хорошо обусловленные матрицы"
   ]
  },
  {
   "cell_type": "code",
   "execution_count": null,
   "metadata": {},
   "outputs": [],
   "source": [
    "rank = 5\n",
    "A = create_tridiagonal_matrix(rank)\n",
    "b = np.ones(rank)\n",
    "\n",
    "for error_deg in range(-5, -16, -5):\n",
    "    error = 10 ** error_deg\n",
    "    print(f\"Solutions (error = {error})\")\n",
    "    experiment(A, b, error)\n"
   ]
  },
  {
   "cell_type": "code",
   "execution_count": null,
   "metadata": {},
   "outputs": [],
   "source": [
    "A = np.array([[3.278164, 1.046583, -1.378574],\n",
    "              [1.046583, 2.975937, 0.934251],\n",
    "              [-1.378574, 0.934251, 4.836173]])\n",
    "\n",
    "b = np.array([-0.527466, 2.526877, 5.165441])\n",
    "\n",
    "for error_deg in range(-5, -16, -5):\n",
    "    error = 10 ** error_deg\n",
    "    print(f\"Solutions (error = {error})\")\n",
    "    experiment(A, b, error)"
   ]
  },
  {
   "cell_type": "markdown",
   "metadata": {},
   "source": [
    "### Плохо обусловленные матрицы\n",
    "\n",
    "Матрица из методички (страница 94)"
   ]
  },
  {
   "cell_type": "code",
   "execution_count": null,
   "metadata": {},
   "outputs": [],
   "source": [
    "A = np.array([[ -400.6, 199.8],\n",
    "              [ 1198.8, -600.4]])\n",
    "\n",
    "b = np.ones(A.shape[0])\n",
    "\n",
    "for error_deg in range(-5, -16, -5):\n",
    "    error = 10 ** error_deg\n",
    "    print(f\"Solutions (error = {error})\")\n",
    "    experiment(A, b, error)"
   ]
  },
  {
   "cell_type": "markdown",
   "metadata": {},
   "source": [
    "Матрица Гильберта"
   ]
  },
  {
   "cell_type": "code",
   "execution_count": null,
   "metadata": {},
   "outputs": [],
   "source": [
    "rank = 5\n",
    "A = create_hilbert_matrix(rank)\n",
    "solution = np.ones(rank)\n",
    "b = A.dot(solution)\n",
    "\n",
    "for error_deg in range(-5, -16, -5):\n",
    "    error = 10 ** error_deg\n",
    "    print(f\"Solutions (error = {error})\")\n",
    "    experiment(A, b, error)"
   ]
  }
 ],
 "metadata": {
  "interpreter": {
   "hash": "baaf916ca6c4ce979e8147ddecfa27bf3f96ad18e9f19ff9b194c54fcb57b5ff"
  },
  "kernelspec": {
   "display_name": "Python 3 (ipykernel)",
   "language": "python",
   "name": "python3"
  },
  "language_info": {
   "codemirror_mode": {
    "name": "ipython",
    "version": 3
   },
   "file_extension": ".py",
   "mimetype": "text/x-python",
   "name": "python",
   "nbconvert_exporter": "python",
   "pygments_lexer": "ipython3",
   "version": "3.9.12"
  }
 },
 "nbformat": 4,
 "nbformat_minor": 4
}
