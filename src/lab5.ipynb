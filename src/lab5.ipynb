{
 "cells": [
  {
   "cell_type": "markdown",
   "metadata": {},
   "source": [
    "# Lab5\n",
    "\n",
    "---\n",
    "\n",
    "## Task\n",
    "\n",
    "Реализовать для нахождения максимального по модулю собственного числа и соответствующего собственного вектора матрицы степенной метод и метод скалярных произведений.\n",
    "\n",
    "- Вычисления проводить до достижения точности ε.\n",
    "- Варьируя ε, скажем от 10<sup>-2</sup> до 10<sup>-5</sup>, изучить зависимость количества итераций от ε.\n",
    "- Сравнить количество итераций в методах (при каждом фиксированном ε)\n",
    "- Если есть возможность - сравнить полученные значения (с.ч. и с.в.) с найденными встроенными функциями."
   ]
  },
  {
   "cell_type": "markdown",
   "metadata": {},
   "source": [
    "# Solution\n",
    "\n",
    "---"
   ]
  },
  {
   "cell_type": "code",
   "execution_count": 1,
   "metadata": {},
   "outputs": [],
   "source": [
    "import math\n",
    "import  numpy as np\n",
    "from scipy import linalg as la\n",
    "\n",
    "from utils.matrices import *"
   ]
  },
  {
   "cell_type": "code",
   "execution_count": 2,
   "metadata": {},
   "outputs": [],
   "source": [
    "def eig_value_degree_method(A, error):\n",
    "    n, _ = A.shape\n",
    "    x = np.ones_like(A[0])\n",
    "\n",
    "    x_new = A @ x\n",
    "    iter = 0\n",
    "    ratio = 0   \n",
    "    ratio_new = x_new / x\n",
    "    \n",
    "    while np.all(ratio_new - ratio) > error:\n",
    "        x = x_new\n",
    "        ratio = ratio_new\n",
    "        x_new = A @ x\n",
    "        ratio_new = x_new / x\n",
    "        iter += 1\n",
    "    \n",
    "    eig_vect = np.split(x, len(x))\n",
    "\n",
    "    return abs(ratio), eig_vect / eig_vect[len(x) - 1], iter\n"
   ]
  },
  {
   "cell_type": "code",
   "execution_count": 3,
   "metadata": {},
   "outputs": [],
   "source": [
    "def eig_value_scalar_method(A, error):\n",
    "    pass\n",
    "\n"
   ]
  },
  {
   "cell_type": "markdown",
   "metadata": {},
   "source": [
    "## Experimental research"
   ]
  },
  {
   "cell_type": "code",
   "execution_count": 4,
   "metadata": {},
   "outputs": [],
   "source": [
    "def experiment(A):\n",
    "    for error in range(-5, -16, -5):\n",
    "        print(f\"Max absolute eigenvalue. Error = {error}\")\n",
    "\n",
    "        actual_deg_eig, actual_deg_vect, iter = eig_value_degree_method(A, error)\n",
    "        print(f\"\"\"\\tDegree method:\n",
    "                    eig  = {actual_deg_eig},\n",
    "                    vect = {actual_deg_vect}\n",
    "                    iterations: {iter}\n",
    "               \"\"\")   \n",
    "        \n",
    "        actual_sca_eig, actual_sca_vect, iter = eig_value_scalar_method(A, error)\n",
    "        print(f\"\"\"\\tScalar method:\n",
    "                    eig  = {actual_sca_eig},\n",
    "                    vect = {actual_sca_vect}\n",
    "                    iterations: {iter}\n",
    "               \"\"\")\n",
    "        \n",
    "    eigs, _ = la.eig(A)\n",
    "    expected = max(eigs, key=abs)\n",
    "    print(f\"Built-in function: {expected}\")\n",
    "    print(f\"\"\"      eig  = {actual_sca_eig},\n",
    "                    vect = {actual_sca_vect}\n",
    "                    iterations: {iter}\n",
    "               \"\"\")\n",
    "        "
   ]
  },
  {
   "cell_type": "code",
   "execution_count": 5,
   "metadata": {},
   "outputs": [
    {
     "name": "stdout",
     "output_type": "stream",
     "text": [
      "Max absolute eigenvalue. Error = -5\n"
     ]
    },
    {
     "name": "stderr",
     "output_type": "stream",
     "text": [
      "C:\\Users\\DenisPorsev.DESKTOP-V64SA0P\\AppData\\Local\\Temp\\ipykernel_6792\\3623812323.py:13: RuntimeWarning: overflow encountered in matmul\n",
      "  x_new = A @ x\n",
      "C:\\Users\\DenisPorsev.DESKTOP-V64SA0P\\AppData\\Local\\Temp\\ipykernel_6792\\3623812323.py:14: RuntimeWarning: invalid value encountered in true_divide\n",
      "  ratio_new = x_new / x\n",
      "C:\\Users\\DenisPorsev.DESKTOP-V64SA0P\\AppData\\Local\\Temp\\ipykernel_6792\\3623812323.py:13: RuntimeWarning: invalid value encountered in matmul\n",
      "  x_new = A @ x\n"
     ]
    },
    {
     "ename": "KeyboardInterrupt",
     "evalue": "",
     "output_type": "error",
     "traceback": [
      "\u001b[1;31m---------------------------------------------------------------------------\u001b[0m",
      "\u001b[1;31mKeyboardInterrupt\u001b[0m                         Traceback (most recent call last)",
      "Input \u001b[1;32mIn [5]\u001b[0m, in \u001b[0;36m<cell line: 5>\u001b[1;34m()\u001b[0m\n\u001b[0;32m      1\u001b[0m A \u001b[38;5;241m=\u001b[39m np\u001b[38;5;241m.\u001b[39marray([[ \u001b[38;5;241m-\u001b[39m\u001b[38;5;241m0.81417\u001b[39m, \u001b[38;5;241m-\u001b[39m\u001b[38;5;241m0.01937\u001b[39m,  \u001b[38;5;241m0.41372\u001b[39m],\n\u001b[0;32m      2\u001b[0m               [ \u001b[38;5;241m-\u001b[39m\u001b[38;5;241m0.01937\u001b[39m,  \u001b[38;5;241m6.586211\u001b[39m, \u001b[38;5;241m0.54414\u001b[39m],\n\u001b[0;32m      3\u001b[0m               [  \u001b[38;5;241m0.41372\u001b[39m,  \u001b[38;5;241m0.00590\u001b[39m, \u001b[38;5;241m-\u001b[39m\u001b[38;5;241m0.81445\u001b[39m]])\n\u001b[1;32m----> 5\u001b[0m \u001b[43mexperiment\u001b[49m\u001b[43m(\u001b[49m\u001b[43mA\u001b[49m\u001b[43m)\u001b[49m\n",
      "Input \u001b[1;32mIn [4]\u001b[0m, in \u001b[0;36mexperiment\u001b[1;34m(A)\u001b[0m\n\u001b[0;32m      2\u001b[0m \u001b[38;5;28;01mfor\u001b[39;00m error \u001b[38;5;129;01min\u001b[39;00m \u001b[38;5;28mrange\u001b[39m(\u001b[38;5;241m-\u001b[39m\u001b[38;5;241m5\u001b[39m, \u001b[38;5;241m-\u001b[39m\u001b[38;5;241m16\u001b[39m, \u001b[38;5;241m-\u001b[39m\u001b[38;5;241m5\u001b[39m):\n\u001b[0;32m      3\u001b[0m     \u001b[38;5;28mprint\u001b[39m(\u001b[38;5;124mf\u001b[39m\u001b[38;5;124m\"\u001b[39m\u001b[38;5;124mMax absolute eigenvalue. Error = \u001b[39m\u001b[38;5;132;01m{\u001b[39;00merror\u001b[38;5;132;01m}\u001b[39;00m\u001b[38;5;124m\"\u001b[39m)\n\u001b[1;32m----> 5\u001b[0m     actual_deg_eig, actual_deg_vect, \u001b[38;5;28miter\u001b[39m \u001b[38;5;241m=\u001b[39m \u001b[43meig_value_degree_method\u001b[49m\u001b[43m(\u001b[49m\u001b[43mA\u001b[49m\u001b[43m,\u001b[49m\u001b[43m \u001b[49m\u001b[43merror\u001b[49m\u001b[43m)\u001b[49m\n\u001b[0;32m      6\u001b[0m     \u001b[38;5;28mprint\u001b[39m(\u001b[38;5;124mf\u001b[39m\u001b[38;5;124m\"\"\"\u001b[39m\u001b[38;5;130;01m\\t\u001b[39;00m\u001b[38;5;124mDegree method:\u001b[39m\n\u001b[0;32m      7\u001b[0m \u001b[38;5;124m                eig  = \u001b[39m\u001b[38;5;132;01m{\u001b[39;00mactual_deg_eig\u001b[38;5;132;01m}\u001b[39;00m\u001b[38;5;124m,\u001b[39m\n\u001b[0;32m      8\u001b[0m \u001b[38;5;124m                vect = \u001b[39m\u001b[38;5;132;01m{\u001b[39;00mactual_deg_vect\u001b[38;5;132;01m}\u001b[39;00m\n\u001b[0;32m      9\u001b[0m \u001b[38;5;124m                iterations: \u001b[39m\u001b[38;5;132;01m{\u001b[39;00m\u001b[38;5;28miter\u001b[39m\u001b[38;5;132;01m}\u001b[39;00m\n\u001b[0;32m     10\u001b[0m \u001b[38;5;124m           \u001b[39m\u001b[38;5;124m\"\"\"\u001b[39m)   \n\u001b[0;32m     12\u001b[0m     actual_sca_eig, actual_sca_vect, \u001b[38;5;28miter\u001b[39m \u001b[38;5;241m=\u001b[39m eig_value_scalar_method(A, error)\n",
      "Input \u001b[1;32mIn [2]\u001b[0m, in \u001b[0;36meig_value_degree_method\u001b[1;34m(A, error)\u001b[0m\n\u001b[0;32m     13\u001b[0m     x_new \u001b[38;5;241m=\u001b[39m A \u001b[38;5;241m@\u001b[39m x\n\u001b[0;32m     14\u001b[0m     ratio_new \u001b[38;5;241m=\u001b[39m x_new \u001b[38;5;241m/\u001b[39m x\n\u001b[1;32m---> 15\u001b[0m     \u001b[38;5;28miter\u001b[39m \u001b[38;5;241m+\u001b[39m\u001b[38;5;241m=\u001b[39m \u001b[38;5;241m1\u001b[39m\n\u001b[0;32m     17\u001b[0m eig_vect \u001b[38;5;241m=\u001b[39m np\u001b[38;5;241m.\u001b[39msplit(x, \u001b[38;5;28mlen\u001b[39m(x))\n\u001b[0;32m     19\u001b[0m \u001b[38;5;28;01mreturn\u001b[39;00m \u001b[38;5;28mabs\u001b[39m(ratio), eig_vect \u001b[38;5;241m/\u001b[39m eig_vect[\u001b[38;5;28mlen\u001b[39m(x) \u001b[38;5;241m-\u001b[39m \u001b[38;5;241m1\u001b[39m], \u001b[38;5;28miter\u001b[39m\n",
      "\u001b[1;31mKeyboardInterrupt\u001b[0m: "
     ]
    }
   ],
   "source": [
    "A = np.array([[ -0.81417, -0.01937,  0.41372],\n",
    "              [ -0.01937,  6.586211, 0.54414],\n",
    "              [  0.41372,  0.00590, -0.81445]])\n",
    "\n",
    "experiment(A)"
   ]
  },
  {
   "cell_type": "code",
   "execution_count": null,
   "metadata": {},
   "outputs": [],
   "source": [
    "rank = 5\n",
    "A = create_hilbert_matrix(rank)\n",
    "\n",
    "experiment(A)"
   ]
  }
 ],
 "metadata": {
  "interpreter": {
   "hash": "baaf916ca6c4ce979e8147ddecfa27bf3f96ad18e9f19ff9b194c54fcb57b5ff"
  },
  "kernelspec": {
   "display_name": "Python 3 (ipykernel)",
   "language": "python",
   "name": "python3"
  },
  "language_info": {
   "codemirror_mode": {
    "name": "ipython",
    "version": 3
   },
   "file_extension": ".py",
   "mimetype": "text/x-python",
   "name": "python",
   "nbconvert_exporter": "python",
   "pygments_lexer": "ipython3",
   "version": "3.9.12"
  }
 },
 "nbformat": 4,
 "nbformat_minor": 4
}
