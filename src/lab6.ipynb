{
 "cells": [
  {
   "cell_type": "markdown",
   "metadata": {},
   "source": [
    "# Lab6\n",
    "\n",
    "---\n",
    "\n",
    "## Task\n",
    "\n",
    "Реализовать метод Якоби поиска всех собственных чисел. Использовать две какие-либо стратегии выбора обнуляемого элемента.\n",
    "\n",
    "- Вычисления проводить до достижения точности ε.\n",
    "- Варьируя ε, скажем от 10<sup>-2</sup> до 10<sup>-5</sup>, изучить зависимость количества итераций от ε.\n",
    "- Обязательно протестировать на матрице Гильберта порядка > 5\n",
    "- Выводить количество итераций.\n",
    "- По теореме Гершгорина определить область, в которую должны попадать с.ч. матрицы. Проверить, действительно ли найденные значения в область попали."
   ]
  },
  {
   "cell_type": "markdown",
   "metadata": {},
   "source": [
    "# Solution\n",
    "\n",
    "---"
   ]
  },
  {
   "cell_type": "code",
   "execution_count": null,
   "metadata": {},
   "outputs": [],
   "source": [
    "import math\n",
    "import numpy as np\n",
    "from scipy import linalg as la\n",
    "\n",
    "from utils.matrices import *"
   ]
  },
  {
   "cell_type": "code",
   "execution_count": null,
   "metadata": {},
   "outputs": [],
   "source": [
    "def sum_row_no_diag(A):\n",
    "    \"\"\"\n",
    "    Sum of all row elements without diagonal one\n",
    "    \"\"\"\n",
    "    n, _ = A.shape\n",
    "    return sum([A[i][j] for i in range(n) for j in range(n) if i != j])"
   ]
  },
  {
   "cell_type": "code",
   "execution_count": null,
   "metadata": {},
   "outputs": [],
   "source": [
    "def jacobi_max_module(A, error):\n",
    "    \"\"\"\n",
    "    Using max module element\n",
    "    \"\"\"\n",
    "    n, _ = A.shape\n",
    "\n",
    "    max_el = 0\n",
    "    for i in range(n - 1):\n",
    "        for j in range(i + 1, n):\n",
    "            if abs(A[i, j]) >= max_el:\n",
    "              max_el = abs(A[i, j])\n",
    "              k = i\n",
    "              l = j \n",
    "\n",
    "    vects = matrix_rotate(A, k, l)\n",
    "    R = matrix_rotate(A, k, l)\n",
    "    A = (R.T @ A) @ R\n",
    "\n",
    "    iter = 0\n",
    "    while max_el > error:\n",
    "        \n",
    "        R = matrix_rotate(A, k, l)\n",
    "        A = (R.T @ A) @ R\n",
    "        vects = vects @ R\n",
    "        max_el = 0\n",
    "\n",
    "        for i in range(n - 1):\n",
    "            for j in range(i + 1, n):\n",
    "                if abs(A[i,j]) >= max_el:\n",
    "                    max_el = abs(A[i,j])\n",
    "                    k = i\n",
    "                    l = j\n",
    "\n",
    "        iter += 1\n",
    "    \n",
    "    eigs = np.diagonal(A)\n",
    "    \n",
    "    return eigs, vects, iter"
   ]
  },
  {
   "cell_type": "code",
   "execution_count": null,
   "metadata": {},
   "outputs": [],
   "source": [
    "def matrix_rotate(A, k, l):\n",
    "    x   = 2 * A[k][l] / (A[k][k] - A[l][l])\n",
    "    cos = math.cos(1 / 2 * math.atan(x))\n",
    "    sin = math.sin(1 / 2 * math.atan(x))\n",
    "    \n",
    "    R = np.eye(len(A))\n",
    "    R[k][k] = cos\n",
    "    R[k][l] = -sin\n",
    "    R[l][k] = sin\n",
    "    R[l][l] = cos\n",
    "    \n",
    "    return R"
   ]
  },
  {
   "cell_type": "code",
   "execution_count": null,
   "metadata": {},
   "outputs": [],
   "source": [
    "def jacobi_cyclic_selection(A_, error):\n",
    "    \"\"\"\n",
    "    Using cyclic selection strategy. Enumerate diagonal elements and reset round\n",
    "    \"\"\"\n",
    "    n, _ = A_.shape\n",
    "    A = A_.copy()\n",
    "    \n",
    "    sum = 0\n",
    "    k = 0\n",
    "    l = 1\n",
    "    \n",
    "    vects = matrix_rotate(A, k, l)\n",
    "    R = matrix_rotate(A, k, l)\n",
    "    A = (R.T @ A) @ R\n",
    "    sum = sum_row_no_diag(A)\n",
    "    k = 0\n",
    "    l = 2\n",
    "\n",
    "    iter = 0\n",
    "    while sum > error:\n",
    "        R = matrix_rotate(A, k, l)\n",
    "        A = (R.T @ A) @ R\n",
    "        vects = vects @ R\n",
    "        \n",
    "        if l < n - 1 and l + 1 != k:\n",
    "            l += 1\n",
    "        elif l < n - 2 and l + 1 == k:\n",
    "            l += 2\n",
    "        elif l < n - 1 and l + 1 == k and l + 1 == n - 1 and k < n - 1:\n",
    "            k += 1\n",
    "            l = 0\n",
    "        elif k < n - 1:\n",
    "            k +=1\n",
    "            l = 0\n",
    "        else:\n",
    "            k = 0\n",
    "            l = 1    \n",
    "        \n",
    "        sum = sum_row_no_diag(A)\n",
    "        iter += 1\n",
    "\n",
    "    eigs = np.diagonal(A)\n",
    "    \n",
    "    return eigs, vects, iter"
   ]
  },
  {
   "cell_type": "code",
   "execution_count": null,
   "metadata": {},
   "outputs": [],
   "source": [
    "def check_eigs_range(A):\n",
    "    \"\"\"\n",
    "    Using Gershgorin's theorem get the possible range of eigenvalues\n",
    "    \"\"\"\n",
    "    left = 10000\n",
    "    right = - left\n",
    "\n",
    "    for row in A: \n",
    "        centre = row[0] \n",
    "        radius = np.sum(np.absolute(row)) - np.absolute(row[0])\n",
    "        \n",
    "        if centre - radius < left:\n",
    "            left = centre - radius\n",
    "        \n",
    "        if centre + radius > right:\n",
    "            right = centre + radius\n",
    "        \n",
    "    \n",
    "    return left, right"
   ]
  },
  {
   "cell_type": "markdown",
   "metadata": {},
   "source": [
    "## Experimental research"
   ]
  },
  {
   "cell_type": "code",
   "execution_count": null,
   "metadata": {},
   "outputs": [],
   "source": [
    "def experiment(A):\n",
    "     for error_deg in range(-2, -5, -1):\n",
    "          error = 10**(error_deg)\n",
    "          print(f\"=================== Max absolute eigenvalue. Error = {error} ===================\")\n",
    "          \n",
    "          actual_max_eigs, actual_max_vects, iter = jacobi_max_module(A, error)\n",
    "          print(f\"Max module method:\")\n",
    "          print(f\"      eigenvalues   : {actual_max_eigs}\")\n",
    "          print(f\"      eigenvectors  :\\n{actual_max_vects}\")\n",
    "          print(f\"Iterations: {iter}\\n\")\n",
    "          \n",
    "          actual_cyc_eigs, actual_cyc_vects, iter = jacobi_cyclic_selection(A, error)\n",
    "          print(f\"Cyclic selection method:\")\n",
    "          print(f\"      eigenvalues   : {actual_cyc_eigs}\")\n",
    "          print(f\"      eigenvectors  :\\n{actual_cyc_vects}\")\n",
    "          print(f\"Iterations: {iter}\\n\")\n",
    "          \n",
    "     \n",
    "     expected_eigs, expected_vects = la.eig(A)\n",
    "     print(\"=============================================================================\")\n",
    "     print(f\"Possible range for eigenvalues: [{check_eigs_range(A)}]\")\n",
    "     print(\"Built-in function:\")\n",
    "     print(f\"      eigenvalues   : {expected_eigs}\")\n",
    "     print(f\"      eigenvectors  :\\n{expected_vects}\")\n",
    "        "
   ]
  },
  {
   "cell_type": "code",
   "execution_count": null,
   "metadata": {},
   "outputs": [],
   "source": [
    "A = np.array([[ -0.81417, -0.01937,  0.41372],\n",
    "              [ -0.01937,  6.586211, 0.54414],\n",
    "              [  0.41372,  0.00590, -0.81445]])\n",
    "\n",
    "experiment(A)"
   ]
  },
  {
   "cell_type": "code",
   "execution_count": null,
   "metadata": {},
   "outputs": [],
   "source": [
    "rank = 5\n",
    "A = create_hilbert_matrix(rank)\n",
    "\n",
    "experiment(A)"
   ]
  },
  {
   "cell_type": "code",
   "execution_count": null,
   "metadata": {},
   "outputs": [],
   "source": [
    "rank = 7\n",
    "A = create_hilbert_matrix(rank)\n",
    "\n",
    "experiment(A)"
   ]
  },
  {
   "cell_type": "code",
   "execution_count": null,
   "metadata": {},
   "outputs": [],
   "source": [
    "rank = 9\n",
    "A = create_hilbert_matrix(rank)\n",
    "\n",
    "experiment(A)"
   ]
  }
 ],
 "metadata": {
  "interpreter": {
   "hash": "baaf916ca6c4ce979e8147ddecfa27bf3f96ad18e9f19ff9b194c54fcb57b5ff"
  },
  "kernelspec": {
   "display_name": "Python 3 (ipykernel)",
   "language": "python",
   "name": "python3"
  },
  "language_info": {
   "codemirror_mode": {
    "name": "ipython",
    "version": 3
   },
   "file_extension": ".py",
   "mimetype": "text/x-python",
   "name": "python",
   "nbconvert_exporter": "python",
   "pygments_lexer": "ipython3",
   "version": "3.9.12"
  }
 },
 "nbformat": 4,
 "nbformat_minor": 4
}
