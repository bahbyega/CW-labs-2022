{
 "cells": [
  {
   "cell_type": "markdown",
   "metadata": {},
   "source": [
    "# Lab8\n",
    "\n",
    "---\n",
    "\n",
    "## Task\n",
    "\n",
    "Реализовать решение ОДУ сеточным методом.\n",
    "\n",
    "- Реализовать один из проекционных методов: метод Ритца или метод Галеркина.\n",
    "- Сравнить решения при разных N (либо графически, либо выводить значения решений на достаточно частой сетке)"
   ]
  },
  {
   "cell_type": "markdown",
   "metadata": {},
   "source": [
    "# Solution\n",
    "\n",
    "---"
   ]
  },
  {
   "cell_type": "code",
   "execution_count": null,
   "metadata": {},
   "outputs": [],
   "source": [
    "import numpy as np\n",
    "from scipy import linalg as la\n",
    "from scipy import special as sp\n",
    "from scipy import misc\n",
    "from scipy import integrate\n",
    "\n",
    "import matplotlib.pyplot as plt"
   ]
  },
  {
   "cell_type": "markdown",
   "metadata": {},
   "source": [
    "### Реализация метода Галеркина"
   ]
  },
  {
   "cell_type": "code",
   "execution_count": null,
   "metadata": {},
   "outputs": [],
   "source": [
    "def jacobi_polynom(n, k):\n",
    "    return lambda x: (1 - x ** 2) * sp.eval_jacobi(n, k, k, x)\n",
    "\n",
    "def derivative(func, order):\n",
    "    return lambda x: misc.derivative(func, x, n=order)\n",
    "\n",
    "def galerkin_method(p, q, r, f, segment, n):\n",
    "    a, b = segment\n",
    "\n",
    "    A_i = lambda phi: lambda x: p(x) * derivative(phi, 2)(x) + q(x) * derivative(phi, 1)(x) + r(x) * phi(x)\n",
    "    A_i = np.vectorize(A_i)\n",
    "    \n",
    "    phi = [jacobi_polynom(i, 1) for i in range(n)]\n",
    "\n",
    "    lbase = np.zeros( (n, n) )\n",
    "    rbase = np.zeros( (n, 1) )\n",
    "\n",
    "    for i in range(n):\n",
    "        for j in range(n):\n",
    "            lbase[i, j] = integrate.quad(lambda x: phi[i](x) * A_i(phi)[j](x), a, b)[0]\n",
    "        rbase[i] = integrate.quad(lambda x: phi[i](x) * f(x), a, b)[0]\n",
    "\n",
    "    alpha = la.solve(lbase, rbase)\n",
    "    \n",
    "    return lambda x: sum([alpha[i] * phi[i](x) for i in range(n)])\n"
   ]
  },
  {
   "cell_type": "markdown",
   "metadata": {},
   "source": [
    "## Experimental reseach"
   ]
  }
 ],
 "metadata": {
  "interpreter": {
   "hash": "baaf916ca6c4ce979e8147ddecfa27bf3f96ad18e9f19ff9b194c54fcb57b5ff"
  },
  "kernelspec": {
   "display_name": "Python 3 (ipykernel)",
   "language": "python",
   "name": "python3"
  },
  "language_info": {
   "codemirror_mode": {
    "name": "ipython",
    "version": 3
   },
   "file_extension": ".py",
   "mimetype": "text/x-python",
   "name": "python",
   "nbconvert_exporter": "python",
   "pygments_lexer": "ipython3",
   "version": "3.9.12"
  }
 },
 "nbformat": 4,
 "nbformat_minor": 4
}
