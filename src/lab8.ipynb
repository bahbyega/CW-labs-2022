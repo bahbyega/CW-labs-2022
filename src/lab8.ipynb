{
 "cells": [
  {
   "cell_type": "markdown",
   "metadata": {},
   "source": [
    "# Lab8\n",
    "\n",
    "---\n",
    "\n",
    "## Task\n",
    "\n",
    "Реализовать решение ОДУ сеточным методом.\n",
    "\n",
    "- Реализовать один из проекционных методов: метод Ритца или метод Галеркина.\n",
    "- Сравнить решения при разных N (либо графически, либо выводить значения решений на достаточно частой сетке)"
   ]
  },
  {
   "cell_type": "markdown",
   "metadata": {},
   "source": [
    "# Solution\n",
    "\n",
    "---"
   ]
  },
  {
   "cell_type": "code",
   "execution_count": null,
   "metadata": {},
   "outputs": [],
   "source": [
    "import math\n",
    "import numpy as np\n",
    "from scipy import linalg as la\n",
    "from scipy import special as sp\n",
    "from scipy import misc\n",
    "from scipy import integrate\n",
    "\n",
    "import matplotlib.pyplot as plt"
   ]
  },
  {
   "cell_type": "markdown",
   "metadata": {},
   "source": [
    "### Реализация метода Галеркина"
   ]
  },
  {
   "cell_type": "code",
   "execution_count": null,
   "metadata": {},
   "outputs": [],
   "source": [
    "def jacobi_polynom(n, k):\n",
    "    return lambda x: (1 - x ** 2) * sp.eval_jacobi(n, k, k, x)\n",
    "\n",
    "def derivative(func, order):\n",
    "    return lambda x: misc.derivative(func, x, n=order)\n",
    "\n",
    "def galerkin_method(p, q, r, f, segment, n):\n",
    "    a, b = segment\n",
    "\n",
    "    A_i = lambda phi: lambda x: p(x) * derivative(phi, 2)(x) + q(x) * derivative(phi, 1)(x) + r(x) * phi(x)\n",
    "    A_i = np.vectorize(A_i)\n",
    "    \n",
    "    phi = [jacobi_polynom(i, 1) for i in range(n)]\n",
    "\n",
    "    lbase = np.zeros( (n, n) )\n",
    "    rbase = np.zeros( (n, 1) )\n",
    "\n",
    "    for i in range(n):\n",
    "        for j in range(n):\n",
    "            lbase[i, j] = integrate.quad(lambda x: phi[i](x) * A_i(phi)[j](x), a, b)[0]\n",
    "        rbase[i] = integrate.quad(lambda x: phi[i](x) * f(x), a, b)[0]\n",
    "\n",
    "    alpha = la.solve(lbase, rbase)\n",
    "    \n",
    "    return lambda x: sum([alpha[i] * phi[i](x) for i in range(n)])\n"
   ]
  },
  {
   "cell_type": "markdown",
   "metadata": {},
   "source": [
    "## Experimental reseach"
   ]
  },
  {
   "cell_type": "code",
   "execution_count": null,
   "metadata": {},
   "outputs": [],
   "source": [
    "def experiment(p, q, r, f, segment, n_range):\n",
    "    _, axes = plt.subplots(3, 2, figsize=(20, 12))\n",
    "\n",
    "    k = 0\n",
    "    for i in range(2):\n",
    "        for j in range(2):\n",
    "            n = n_range[k]\n",
    "            k += 1\n",
    "            \n",
    "            a, b = segment\n",
    "            u = galerkin_method(p, q, r, f, segment, n)\n",
    "            grid = np.linspace(a, b, 100)\n",
    "\n",
    "            axes[i, j].plot(grid, u(grid))\n",
    "            axes[i, j].set_title(f\"Number of N: {n}\")\n",
    "    \n",
    "    for n in n_range:\n",
    "        u = galerkin_method(p, q, r, f, segment, n)\n",
    "        axes[2, 0].plot(grid, u(grid), label=f\"N = {n}\")\n",
    "\n",
    "    axes[2, 0].legend()\n"
   ]
  },
  {
   "cell_type": "markdown",
   "metadata": {},
   "source": [
    "### Дифуры второго порядка из методички"
   ]
  },
  {
   "cell_type": "code",
   "execution_count": null,
   "metadata": {},
   "outputs": [],
   "source": [
    "# Var 5\n",
    "p = lambda x: - 1 / (x + 3)\n",
    "q = lambda x: - x\n",
    "r = lambda x: math.log(2 + x)\n",
    "f = lambda x: 1 - x / 2\n",
    "\n",
    "segment = (-1, 1)\n",
    "experiment(p, q, r, f, segment, [2, 5, 8, 11])"
   ]
  },
  {
   "cell_type": "code",
   "execution_count": null,
   "metadata": {},
   "outputs": [],
   "source": [
    "# Var 8\n",
    "p = lambda x: -(4 - x) / (5 - 2 * x)\n",
    "q = lambda x: (1 - x)/2\n",
    "r = lambda x: math.log(3 + x) / 2\n",
    "f = lambda x: 1 + x / 3\n",
    "\n",
    "segment = (-1, 1)\n",
    "experiment(p, q, r, f, segment, [2, 5, 8, 11])"
   ]
  },
  {
   "cell_type": "code",
   "execution_count": null,
   "metadata": {},
   "outputs": [],
   "source": [
    "# Var 11\n",
    "p = lambda x: -(7 - x)/(8 + 3 * x)\n",
    "q = lambda x: (1 + x / 3)\n",
    "r = lambda x: (1 - math.exp(x / 2) / 2)\n",
    "f = lambda x: 1/2 - x / 3 \n",
    "\n",
    "segment = (-1, 1)\n",
    "experiment(p, q, r, f, segment, [2, 5, 8, 11])"
   ]
  },
  {
   "cell_type": "markdown",
   "metadata": {},
   "source": [
    "### Дифур первого порядка\n"
   ]
  },
  {
   "cell_type": "code",
   "execution_count": null,
   "metadata": {},
   "outputs": [],
   "source": [
    "p = lambda x: 0\n",
    "q = lambda x: 1 / (2 + x)\n",
    "r = lambda x: math.cos(x)\n",
    "f = lambda x: 1 + x\n",
    "segment = (-1, 1)\n",
    "experiment(p, q, r, f, segment, [2, 5, 8, 11])"
   ]
  }
 ],
 "metadata": {
  "interpreter": {
   "hash": "baaf916ca6c4ce979e8147ddecfa27bf3f96ad18e9f19ff9b194c54fcb57b5ff"
  },
  "kernelspec": {
   "display_name": "Python 3 (ipykernel)",
   "language": "python",
   "name": "python3"
  },
  "language_info": {
   "codemirror_mode": {
    "name": "ipython",
    "version": 3
   },
   "file_extension": ".py",
   "mimetype": "text/x-python",
   "name": "python",
   "nbconvert_exporter": "python",
   "pygments_lexer": "ipython3",
   "version": "3.9.12"
  }
 },
 "nbformat": 4,
 "nbformat_minor": 4
}
