{
 "cells": [
  {
   "cell_type": "markdown",
   "metadata": {},
   "source": [
    "# Lab9\n",
    "\n",
    "---\n",
    "\n",
    "## Task\n",
    "\n",
    "Реализовать решение ОДУ методом конечных элементов.\n",
    "\n",
    "Сравнить решения при разных N (либо графически, либо выводить значения решений на достаточно частой сетке)"
   ]
  },
  {
   "cell_type": "markdown",
   "metadata": {},
   "source": [
    "# Solution\n",
    "\n",
    "---"
   ]
  },
  {
   "cell_type": "code",
   "execution_count": null,
   "metadata": {},
   "outputs": [],
   "source": [
    "import numpy as np\n",
    "from scipy import linalg as la\n",
    "from scipy import integrate as integ\n",
    "\n",
    "import matplotlib.pyplot as plt"
   ]
  },
  {
   "cell_type": "markdown",
   "metadata": {},
   "source": [
    "### Реализация метода конечных элементов для краевой задачи"
   ]
  },
  {
   "cell_type": "code",
   "execution_count": null,
   "metadata": {},
   "outputs": [],
   "source": [
    "def func(x, i, grid, h):\n",
    "    if grid[i] < x <= grid[i + 1]:\n",
    "        return (x - grid[i]) / h\n",
    "    elif grid[i + 1] < x < grid[i + 2]:\n",
    "        return (grid[i + 2] - x) / h\n",
    "    return 0\n",
    "\n",
    "def derivative(x, i, grid, h):\n",
    "    if grid[i] < x <= grid[i + 1]:\n",
    "        return 1 / h\n",
    "    elif grid[i + 1] < x < grid[i + 2]:\n",
    "        return - 1 / h\n",
    "    return 0\n",
    "\n",
    "def integrate(f, a, b):\n",
    "    x = np.linspace(a, b, 5000)\n",
    "    return integ.trapezoid(f(x), x)\n",
    "\n",
    "# def coordinates(n, segment, order=0):\n",
    "#     \"\"\"\n",
    "#     'order' is the order of derrivative\n",
    "#     order = 0 means function itselv\n",
    "#     order = 1 is the first derivative\n",
    "#     \"\"\"\n",
    "#     valid_orders = [0, 1]\n",
    "#     if order not in valid_orders:\n",
    "#         raise ValueError(\"Wrong order\")\n",
    "\n",
    "#     a, b = segment\n",
    "#     grid = np.linspace(a, b, n + 2)\n",
    "#     h = grid[1] - grid[0]\n",
    "\n",
    "#     if order == 0:\n",
    "#         phi = lambda x, i: func(x, i, grid, h)\n",
    "#     else:\n",
    "#         phi = lambda x, i: derivative(x, i, grid, h)\n",
    "    \n",
    "#     phis = []\n",
    "#     for i in range(n):\n",
    "#         phis.append(np.frompyfunc(lambda x: phi(x, i), 1, 1))\n",
    "\n",
    "#     return phis\n",
    "\n",
    "def coords(n, a, b):\n",
    "    grid = np.linspace(a, b, n + 2)\n",
    "    h = grid[1] - grid[0]\n",
    "\n",
    "    def phi(j):\n",
    "        def f(x):\n",
    "            if grid[j] < x <= grid[j + 1]:\n",
    "                return (x - grid[j]) / h\n",
    "            elif grid[j + 1] < x < grid[j + 2]:\n",
    "                return (grid[j + 2] - x) / h\n",
    "            else:\n",
    "                return 0\n",
    "\n",
    "        return f\n",
    "\n",
    "    phis = []\n",
    "    for i in range(n):\n",
    "        phis.append(np.frompyfunc(phi(i), 1, 1))\n",
    "\n",
    "    return phis\n",
    "\n",
    "\n",
    "def d_coords(n, a, b):\n",
    "    grid = np.linspace(a, b, n + 2)\n",
    "    h = grid[1] - grid[0]\n",
    "\n",
    "    def dphi(i):\n",
    "        def f(x):\n",
    "            if grid[i] < x <= grid[i + 1]:\n",
    "                return 1 / h\n",
    "            elif grid[i + 1] < x < grid[i + 2]:\n",
    "                return - 1 / h\n",
    "            else:\n",
    "                return 0\n",
    "\n",
    "        return f\n",
    "\n",
    "    phis = []\n",
    "    for i in range(n):\n",
    "        phis.append(np.frompyfunc(dphi(i), 1, 1))\n",
    "\n",
    "    return phis\n",
    "\n",
    "def get_lbase(p, q, r, f, segment, n):\n",
    "    a, b = segment\n",
    "    M = np.zeros((n, n))\n",
    "    phis = coords(n, a, b)\n",
    "    d_phis = d_coords(n, a, b)\n",
    "\n",
    "    for i in range(n):\n",
    "        for j in range(n):\n",
    "            phi_i, d_phi_i = phis[i], d_phis[i]\n",
    "            phi_j, d_phi_j = phis[j], d_phis[j]\n",
    "            func = lambda x: p(x) * d_phi_i(x) * d_phi_j(x) + q(x) * phi_i(x) * d_phi_j(x) + r(x) * phi_i(x) * phi_j(x)\n",
    "            M[i, j] = integrate(func, a, b)\n",
    "\n",
    "    return M\n",
    "\n",
    "def get_rbase(p, q, r, f, segment, n):\n",
    "    a, b = segment\n",
    "    x = np.linspace(a, b, n + 2)\n",
    "    h = x[1] - x[0]\n",
    "\n",
    "    def each(i):\n",
    "        return 1 / h * (-x[i] * integrate(f, x[i], x[i + 1]) + x[i + 2] * integrate(f, x[i + 1], x[i + 2]) + integrate(\n",
    "            (lambda x: x * f(x)), x[i], x[i + 1]) - integrate(lambda x: x * f(x), x[i + 1], x[i + 2]))\n",
    "\n",
    "    return [each(i) for i in range(n)]\n",
    "\n",
    "def finite_elements_method(p, q, r, f, segment, n):\n",
    "    a, b = segment\n",
    "    phis = coords(n, a, b)\n",
    "    alphas = la.solve(get_lbase(p, q, r, f, segment, n), get_rbase(p, q, r, f, segment, n))\n",
    "\n",
    "    return lambda x: sum(alpha * phi(x) for alpha, phi in zip(alphas, phis))"
   ]
  },
  {
   "cell_type": "markdown",
   "metadata": {},
   "source": [
    "## Experimental reseach"
   ]
  },
  {
   "cell_type": "code",
   "execution_count": null,
   "metadata": {},
   "outputs": [],
   "source": [
    "def experiment(p, q, r, f, segment, n_range):\n",
    "    _, axes = plt.subplots(3, 2, figsize=(20, 12))\n",
    "\n",
    "    k = 0\n",
    "    for i in range(2):\n",
    "        for j in range(2):\n",
    "            n = n_range[k]\n",
    "            k += 1\n",
    "\n",
    "            a, b = segment\n",
    "            u = finite_elements_method(p, q, r, f, segment, n)\n",
    "            grid = np.linspace(a, b, 100)\n",
    "\n",
    "            axes[i, j].plot(grid, u(grid))\n",
    "            axes[i, j].set_title(f\"Number of N: {n}\")\n",
    "\n",
    "    for n in n_range:\n",
    "        u = finite_elements_method(p, q, r, f, segment, n)\n",
    "        axes[2, 0].plot(grid, u(grid), label=f\"N = {n}\")\n",
    "\n",
    "    axes[2, 0].legend()\n"
   ]
  },
  {
   "cell_type": "markdown",
   "metadata": {},
   "source": [
    "### Дифуры второго порядка из методички"
   ]
  },
  {
   "cell_type": "code",
   "execution_count": null,
   "metadata": {},
   "outputs": [],
   "source": [
    "# Var 5\n",
    "p = lambda x: - 1 / (x + 3)\n",
    "q = lambda x: - x\n",
    "r = lambda x: np.log(2 + x)\n",
    "f = lambda x: 1 - x / 2\n",
    "\n",
    "segment = (-1, 1)\n",
    "experiment(p, q, r, f, segment, [2, 5, 8, 11])"
   ]
  },
  {
   "cell_type": "code",
   "execution_count": null,
   "metadata": {},
   "outputs": [],
   "source": [
    "# Var 8\n",
    "p = lambda x: -(4 - x) / (5 - 2 * x)\n",
    "q = lambda x: (1 - x)/2\n",
    "r = lambda x: np.log(3 + x) / 2\n",
    "f = lambda x: 1 + x / 3\n",
    "\n",
    "segment = (-1, 1)\n",
    "experiment(p, q, r, f, segment, [2, 5, 8, 11])"
   ]
  },
  {
   "cell_type": "code",
   "execution_count": null,
   "metadata": {},
   "outputs": [],
   "source": [
    "# Var 11\n",
    "p = lambda x: -(7 - x)/(8 + 3 * x)\n",
    "q = lambda x: (1 + x / 3)\n",
    "r = lambda x: (1 - np.exp(x / 2) / 2)\n",
    "f = lambda x: 1/2 - x / 3 \n",
    "\n",
    "segment = (-1, 1)\n",
    "experiment(p, q, r, f, segment, [2, 5, 8, 11])"
   ]
  },
  {
   "cell_type": "markdown",
   "metadata": {},
   "source": [
    "### Дифур первого порядка\n"
   ]
  },
  {
   "cell_type": "code",
   "execution_count": null,
   "metadata": {},
   "outputs": [],
   "source": [
    "p = lambda x: 0\n",
    "q = lambda x: 1 / (2 + x)\n",
    "r = lambda x: np.cos(x)\n",
    "f = lambda x: 1 + x\n",
    "segment = (-1, 1)\n",
    "experiment(p, q, r, f, segment, [2, 5, 8, 11])"
   ]
  }
 ],
 "metadata": {
  "interpreter": {
   "hash": "baaf916ca6c4ce979e8147ddecfa27bf3f96ad18e9f19ff9b194c54fcb57b5ff"
  },
  "kernelspec": {
   "display_name": "Python 3 (ipykernel)",
   "language": "python",
   "name": "python3"
  },
  "language_info": {
   "codemirror_mode": {
    "name": "ipython",
    "version": 3
   },
   "file_extension": ".py",
   "mimetype": "text/x-python",
   "name": "python",
   "nbconvert_exporter": "python",
   "pygments_lexer": "ipython3",
   "version": "3.9.12"
  }
 },
 "nbformat": 4,
 "nbformat_minor": 4
}
