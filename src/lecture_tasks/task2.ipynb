{
 "cells": [
  {
   "cell_type": "markdown",
   "metadata": {},
   "source": [
    "# Задача 2\n",
    "\n",
    "---\n",
    "\n",
    "## Задание\n",
    "\n",
    "Решение интегрального уравнения первого рода. \n",
    "\n",
    "Дано уравнение (22) (см. методичку стр. 23). \n",
    "\n",
    "ПЕРВЫЙ СПОСОБ \n",
    "\n",
    "Сводим его к СЛАУ (24), для её решения применяем метод регуляризации. \n",
    "\n",
    "Для отладки использовать функции $z_1(s) = 1$ и $z_2(s) = s(1-s)$ по которым строятся соответствующие правые части $u(x)$\n",
    "\n",
    "ВТОРОЙ СПОСОБ \n",
    "\n",
    "Решается уравнение (27) с однородными граничными условиями z(0) = z(1) = 0 (см. стр. 26). Уравнение Эйлера (32), его аппроксимация приведена на стр. 27, в итоге приходим к СЛАУ, для решения которых применяется первый способ и отлаживается на тех же функциях. \n",
    "\n",
    "Необходимо сравнить результаты обоих методов, привести графики и дать практические рекомендации по решению таких задач (выбор n и параметра регуляризации).  \n",
    "\n",
    "\n",
    "## Вариант 26.\n",
    "Ядро $2 + e^{-3sx}$\n",
    "\n",
    "---\n",
    "\n",
    "## Решение\n"
   ]
  },
  {
   "cell_type": "code",
   "execution_count": 182,
   "metadata": {},
   "outputs": [],
   "source": [
    "import math\n",
    "import numpy as np\n",
    "import pandas as pd\n",
    "\n",
    "from scipy import linalg as la\n",
    "from scipy import integrate\n",
    "\n",
    "import matplotlib.pyplot as plt\n",
    "import seaborn as sns"
   ]
  },
  {
   "cell_type": "markdown",
   "metadata": {},
   "source": [
    "# Первый способ\n",
    "Задаем ядро"
   ]
  },
  {
   "cell_type": "code",
   "execution_count": 183,
   "metadata": {},
   "outputs": [],
   "source": [
    "K = lambda s, x: 2 + math.exp(-3 * s * x)"
   ]
  },
  {
   "cell_type": "markdown",
   "metadata": {},
   "source": [
    "Отлаживаем решение на функции $z_1(s) = 1$\n"
   ]
  },
  {
   "cell_type": "code",
   "execution_count": 184,
   "metadata": {},
   "outputs": [],
   "source": [
    "z_1 = lambda _: 1"
   ]
  },
  {
   "cell_type": "markdown",
   "metadata": {},
   "source": [
    "Строим $u_1(x)$, как интеграл от $ядра$ на отрезке $[0, 1]$, который равен $2 - (e^{-3x} - 1)/(3x)$"
   ]
  },
  {
   "cell_type": "code",
   "execution_count": 185,
   "metadata": {},
   "outputs": [],
   "source": [
    "u_1 = lambda x: 2 - (math.exp(-3 * x) - 1) / (3 * x)"
   ]
  },
  {
   "cell_type": "markdown",
   "metadata": {},
   "source": [
    "Решаем СЛАУ регуляризацией"
   ]
  },
  {
   "cell_type": "code",
   "execution_count": 186,
   "metadata": {},
   "outputs": [],
   "source": [
    "def solve_with_regularization(matrix, rhs, real_ans):#matrix, right_vect, alpha):\n",
    "    answers = []\n",
    "    errors = []\n",
    "    ans = np.zeros_like(rhs)\n",
    "    best_alpha = 0\n",
    "    min_error = np.inf\n",
    "\n",
    "    for j in reversed(range(2, 15)):\n",
    "        alpha = np.random.uniform(10 ** -j, 10 ** (-j + 1))\n",
    "\n",
    "        new_matrix = matrix.getH() @ matrix + alpha * np.identity(matrix.shape[0])\n",
    "\n",
    "        x = la.solve(new_matrix, matrix.getH() @ rhs)\n",
    "\n",
    "        curr_error = la.norm(real_ans - x)\n",
    "        answers.append(x)\n",
    "        errors.append(curr_error)\n",
    "\n",
    "    return answers, errors\n",
    "\n",
    "def solve_int_eq(n, kernel, right_vect, z):\n",
    "    def row2column(row):\n",
    "        return row[:, np.newaxis]\n",
    "    net = np.linspace(0, 1, num=n + 1)\n",
    "    _m = np.zeros( (n, n) )\n",
    "    matrix = np.matrix(_m)\n",
    "\n",
    "    A = [\n",
    "        net[i] - net[i - 1] for i in range(1, n + 1)\n",
    "    ]\n",
    "\n",
    "    S = [\n",
    "        (net[i - 1] + net[i]) / 2 for i in range(1, n + 1)\n",
    "    ]\n",
    "\n",
    "    right_side = row2column(np.array([right_vect(sk) for sk in S]))\n",
    "\n",
    "    for i in range(n):\n",
    "        for j in range(n):\n",
    "            matrix[i, j] = A[j] * kernel(S[i], S[j])\n",
    "\n",
    "    alpha_deg_range = (-15, 5)\n",
    "    answrs, errors = solve_with_regularization(matrix, right_side, row2column(np.array([z(sk) for sk in S])))\n",
    "\n",
    "    return answrs, errors"
   ]
  },
  {
   "cell_type": "markdown",
   "metadata": {},
   "source": [
    "Ищем ошибку"
   ]
  },
  {
   "cell_type": "code",
   "execution_count": 187,
   "metadata": {},
   "outputs": [],
   "source": [
    "def evaluate_error(results, expected):\n",
    "    errors = []\n",
    "\n",
    "    for result in results:\n",
    "        error = np.abs(1 - la.norm(result) / la.norm(expected))\n",
    "        errors.append(error)\n",
    "    \n",
    "    return errors"
   ]
  },
  {
   "cell_type": "markdown",
   "metadata": {},
   "source": [
    "В таблице продемонстрируем зависимость $alpha$ и погрешности решения"
   ]
  },
  {
   "cell_type": "code",
   "execution_count": 188,
   "metadata": {},
   "outputs": [],
   "source": [
    "def evaluate(alphas, ers):\n",
    "    df = pd.DataFrame(\n",
    "        {\n",
    "            'alphas': alphas,\n",
    "            'errors': ers\n",
    "        }\n",
    "    )\n",
    "    print(df)\n",
    "    "
   ]
  },
  {
   "cell_type": "code",
   "execution_count": 189,
   "metadata": {},
   "outputs": [
    {
     "name": "stdout",
     "output_type": "stream",
     "text": [
      "          alphas    errors\n",
      "0   1.000000e-15  0.476382\n",
      "1   1.000000e-14  0.039694\n",
      "2   1.000000e-13  0.036154\n",
      "3   1.000000e-12  0.034939\n",
      "4   1.000000e-11  0.021853\n",
      "5   1.000000e-10  0.013922\n",
      "6   1.000000e-09  0.011536\n",
      "7   1.000000e-08  0.010310\n",
      "8   1.000000e-07  0.009670\n",
      "9   1.000000e-06  0.015608\n",
      "10  1.000000e-05  0.043361\n",
      "11  1.000000e-04  0.209537\n",
      "12  1.000000e-03  0.362932\n"
     ]
    }
   ],
   "source": [
    "n = 30\n",
    "alphas = [10**deg for deg in range(-15, -2)]\n",
    "_, errors = solve_int_eq(n, K, u_1, z_1)\n",
    "\n",
    "evaluate(alphas, errors)"
   ]
  },
  {
   "cell_type": "markdown",
   "metadata": {},
   "source": [
    "Отлаживаем решение теперь на $z_2(s) = s(1-s)$"
   ]
  },
  {
   "cell_type": "code",
   "execution_count": 190,
   "metadata": {},
   "outputs": [],
   "source": [
    "z_2 = lambda s: s * (1 - s)"
   ]
  },
  {
   "cell_type": "markdown",
   "metadata": {},
   "source": [
    "Строим $u_2(x)$, как интеграл от $ядра$ * $s(1-s)$ на отрезке $[0, 1]$, который равен $(e^{-3x} (e^{3x} (9 x^3 + 3 x - 2) + 3 x + 2))/(27 x^3)$"
   ]
  },
  {
   "cell_type": "code",
   "execution_count": 191,
   "metadata": {},
   "outputs": [],
   "source": [
    "u_2 = lambda x: (math.exp(-3 * x) * (math.exp(3 * x) * (9 * x**3 + 3*x -2) + 3*x + 2)) / (27 * x**3)"
   ]
  },
  {
   "cell_type": "markdown",
   "metadata": {},
   "source": [
    "Вычислим ошибки для каждого альфа:"
   ]
  },
  {
   "cell_type": "code",
   "execution_count": 192,
   "metadata": {},
   "outputs": [
    {
     "name": "stdout",
     "output_type": "stream",
     "text": [
      "          alphas    errors\n",
      "0   1.000000e-15  0.016076\n",
      "1   1.000000e-14  0.002253\n",
      "2   1.000000e-13  0.002388\n",
      "3   1.000000e-12  0.002344\n",
      "4   1.000000e-11  0.004877\n",
      "5   1.000000e-10  0.016826\n",
      "6   1.000000e-09  0.019031\n",
      "7   1.000000e-08  0.079718\n",
      "8   1.000000e-07  0.118902\n",
      "9   1.000000e-06  0.142014\n",
      "10  1.000000e-05  0.210793\n",
      "11  1.000000e-04  0.377062\n",
      "12  1.000000e-03  0.395356\n"
     ]
    }
   ],
   "source": [
    "n = 30\n",
    "alphas = [10**deg for deg in range(-15, -2)]\n",
    "_, errors = solve_int_eq(n, K, u_2, z_2)\n",
    "\n",
    "evaluate(alphas, errors)"
   ]
  },
  {
   "cell_type": "markdown",
   "metadata": {},
   "source": [
    "# Второй способ"
   ]
  },
  {
   "cell_type": "markdown",
   "metadata": {},
   "source": [
    "Решаем интегральное уравнение с однородными граничными условиями $z(0) = z(1) = 0$.\n",
    "\n",
    "Для этого приводим его к уравнению Эйлера, после чего приходим к СЛАУ, для решения которых\n",
    "применяем первый способ."
   ]
  },
  {
   "cell_type": "code",
   "execution_count": 193,
   "metadata": {},
   "outputs": [],
   "source": [
    "def K1(s, t):\n",
    "  return integrate.quad(lambda x: K(x, s) * K(x, t), 0, 1)[0]\n",
    "\n",
    "def get_eq(n, p, r, alpha, u):\n",
    "    A = np.matrix(np.zeros((n + 1, n + 1)))\n",
    "    b = np.zeros(n + 1)\n",
    "    b = b[:, np.newaxis]\n",
    "    h = 1 / n\n",
    "    s = np.linspace(0, 1, n + 1)\n",
    "    t = np.linspace(0, 1, n + 1)\n",
    "\n",
    "    A[0, 0] = 1\n",
    "    b[0] = 0\n",
    "    A[n, n] = 1\n",
    "    b[n] = 0\n",
    "\n",
    "    for k in range(1, n):\n",
    "        A[k, k - 1] = -alpha * p / h**2\n",
    "        A[k, k] = alpha * 2 * p / h**2 + alpha * r\n",
    "        A[k, k + 1] = -alpha * p / h**2\n",
    "\n",
    "        A[k, 0] += h / 2 * K1(s[k], t[0])\n",
    "        A[k, n] += h / 2 * K1(s[k], t[n])\n",
    "        for j in range(1, n):\n",
    "            A[k, j] += h * K1(s[k], t[j])\n",
    "\n",
    "    for k in range (1, n):\n",
    "        l = lambda t : K(t, s[k]) * u(t)\n",
    "        b[k] = integrate.quad(l, 0, 1)[0]\n",
    "\n",
    "    return A, b\n",
    "\n",
    "def method2(n, u, z, p, r):\n",
    "    n = n - 1\n",
    "    x = np.linspace(0, 1, n + 1)\n",
    "    zs = np.zeros(n + 1)\n",
    "\n",
    "    norms = []\n",
    "    answs = []\n",
    "\n",
    "    for i in range(n + 1):\n",
    "        zs[i] = z(x[i])\n",
    "    zs = zs[:, np.newaxis]\n",
    "\n",
    "    for i in range(2, 15):\n",
    "        alpha = 10**(-i)\n",
    "\n",
    "        A, b = get_eq(n, p, r, alpha, u)\n",
    "        ans = np.linalg.solve(A, b)\n",
    "        norm = np.linalg.norm(ans - zs)\n",
    "        \n",
    "        answs.append(ans)\n",
    "        norms.append(norm)\n",
    "        \n",
    "\n",
    "    return answs, norm    "
   ]
  },
  {
   "cell_type": "markdown",
   "metadata": {},
   "source": [
    "Отлаживаем решение на $z_2(s) = s(1-s)$\n",
    "\n",
    "Граничные условия z(0) = z(1) = 0\n",
    "\n",
    "Для этого на графике покажем отклонение полученного решения от точного.\n",
    "Точное решение показано непрерывной линией, от которой прямыми линиями\n",
    "показаны расхождение "
   ]
  },
  {
   "cell_type": "code",
   "execution_count": 194,
   "metadata": {},
   "outputs": [
    {
     "data": {
      "image/png": "[encoded data removed]",
      "text/plain": [
       "<Figure size 1200x800 with 1 Axes>"
      ]
     },
     "metadata": {},
     "output_type": "display_data"
    },
    {
     "name": "stdout",
     "output_type": "stream",
     "text": [
      "Лучшее alpha: 1e-06\n"
     ]
    }
   ],
   "source": [
    "n = 30\n",
    "alphas = [10**deg for deg in range(-15, -5)]\n",
    "solution, errors = method2(n, u_2, z_2, 0, 0)\n",
    "\n",
    "sns.set_style(\"darkgrid\", {\"grid.color\": \".6\", \"grid.linestyle\": \":\"})\n",
    "def show_plot(ans, real_z):\n",
    "  data = {'X' : [], 'Легенда' : [], 'Y' : []}\n",
    "  grid = np.linspace(0, 1, n + 1)\n",
    "\n",
    "  data['X'].extend([(grid[i-1] + grid[i])/2 for i in range(1, n + 1)])\n",
    "  data['Легенда'].extend(\"Регуляризованный ответ, n - \" + str(n) for _ in range(n))\n",
    "  data['Y'].extend(*ans.T)\n",
    "\n",
    "  grid = np.linspace(0, 1, 10000)\n",
    "  data['X'].extend(grid)\n",
    "  data['Легенда'].extend(\"Настоящий ответ\" for _ in range(10000))\n",
    "  data['Y'].extend(map(real_z, grid))\n",
    "\n",
    "  dataframe = pd.DataFrame(data)\n",
    "  plt.figure(figsize=(15, 10), dpi=80)\n",
    "  sns.lineplot(data=dataframe, x='X', y='Y', palette=['r', 'g'])\n",
    "  plt.show()\n",
    "\n",
    "\n",
    "show_plot(solution[0], z_2)\n",
    "print(f\"Лучшее alpha: {alphas[-1]}\")"
   ]
  },
  {
   "cell_type": "markdown",
   "metadata": {},
   "source": [
    "# Выводы\n",
    "\n",
    "- Для больших alpha первый метод показывает невысокую точность. Так, погрешность для $alpha = 0.001$ существенно выше,\n",
    "чем для других измеренных значений alpha. Наилучший же результат был достигнут при $alpha = 1.000000e-06$ для функции\n",
    "$z(s) = 1$ и $alpha = 1.000000e-12$ для функции.\n",
    "\n",
    "- Для второго способа наилучший результаты был достигнут при $alpha = 1.000000e-06$ и в целом показывает лучший результат\n",
    "\n",
    "В целом, альфа должно находиться в диапазоне от $alpha = 1.000000e-06 - alpha = 1.000000e-12$"
   ]
  }
 ],
 "metadata": {
  "interpreter": {
   "hash": "baaf916ca6c4ce979e8147ddecfa27bf3f96ad18e9f19ff9b194c54fcb57b5ff"
  },
  "kernelspec": {
   "display_name": "Python 3.9.12 64-bit ('cw-2022': conda)",
   "language": "python",
   "name": "python3"
  },
  "language_info": {
   "codemirror_mode": {
    "name": "ipython",
    "version": 3
   },
   "file_extension": ".py",
   "mimetype": "text/x-python",
   "name": "python",
   "nbconvert_exporter": "python",
   "pygments_lexer": "ipython3",
   "version": "3.9.12"
  },
  "orig_nbformat": 4
 },
 "nbformat": 4,
 "nbformat_minor": 2
}
