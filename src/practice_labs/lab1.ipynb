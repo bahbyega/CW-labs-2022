{
 "cells": [
  {
   "cell_type": "markdown",
   "id": "aba4b933-e9b2-49c2-bfec-0e6f3f786dfb",
   "metadata": {},
   "source": [
    "# Lab #1\n",
    "\n",
    "---\n",
    "\n",
    "## Task\n",
    "Для СЛАУ с некоторой матрицей A:\n",
    "\n",
    "- вычислить числа обусловленности\n",
    "- поварьировав матрицу и правую часть, вычислить |x - ͂x͂|\n",
    "- посмотреть, есть ли корреляция между величинами чисел обусловленности и погрешностью решения"
   ]
  },
  {
   "cell_type": "markdown",
   "id": "574619e3-800a-4c46-9421-e61f67556f0d",
   "metadata": {},
   "source": [
    "## Solution\n",
    "---"
   ]
  },
  {
   "cell_type": "markdown",
   "id": "3d368b33-3262-49ee-8bf4-73a5af872b88",
   "metadata": {},
   "source": [
    "### Computation of condition numbers"
   ]
  },
  {
   "cell_type": "code",
   "execution_count": null,
   "id": "33692f4b-0df7-4c0e-8ef0-de96772d2f1f",
   "metadata": {},
   "outputs": [],
   "source": [
    "from scipy import linalg as la\n",
    "import numpy as np\n",
    "import math\n",
    "\n",
    "def spectral_condition_nums(matr):\n",
    "    return la.norm(matr) * la.norm(la.inv(matr))\n",
    "\n",
    "def bulk_condition_nums(matr):\n",
    "    product = 1\n",
    "    n, m = matr.shape\n",
    "    \n",
    "    for i in range(n):\n",
    "        temp_sum = 0\n",
    "        for j in range(m):\n",
    "            temp_sum += pow(matr[i, j], 2)\n",
    "        product *= math.sqrt(temp_sum)\n",
    "    \n",
    "    return product / abs(la.det(matr))\n",
    "\n",
    "def angular_condition_nums(matr):\n",
    "    iterator = zip(matr, la.inv(matr).transpose())\n",
    "    return max([la.norm(row) * la.norm(col) for (row, col) in iterator])\n",
    "\n",
    "def compute_matr_condition_nums(matr):\n",
    "    return [\n",
    "        spectral_condition_nums(matr),\n",
    "        bulk_condition_nums(matr),\n",
    "        angular_condition_nums(matr)\n",
    "    ]"
   ]
  },
  {
   "cell_type": "markdown",
   "id": "e5608c0c-cc58-4c60-97c7-87a3a9f6b51a",
   "metadata": {},
   "source": [
    "### Linear equation solution"
   ]
  },
  {
   "cell_type": "code",
   "execution_count": null,
   "id": "5cb1e921-7638-4c78-af26-7696c32ba71c",
   "metadata": {},
   "outputs": [],
   "source": [
    "def solve_le(A, b):\n",
    "    return la.solve(A, b)"
   ]
  },
  {
   "cell_type": "markdown",
   "id": "a58f7f36-272e-4f0a-907f-33acf545d8a6",
   "metadata": {},
   "source": [
    "### Creation of test matrices"
   ]
  },
  {
   "cell_type": "code",
   "execution_count": null,
   "id": "4dc0f293-278c-4552-bbe8-7755581c2562",
   "metadata": {},
   "outputs": [],
   "source": [
    "def round_matrices(matrices, decimals):\n",
    "    return [matrix.round(decimals) for matrix in matrices]\n",
    "\n",
    "def create_hilbert_matrices(range):\n",
    "    return [la.hilbert(i) for i in range]\n",
    "\n",
    "def create_tridiagonal_matrix(size):\n",
    "    if size > 2:\n",
    "        zeros = [0 for _ in range(size - 2)]\n",
    "    else:\n",
    "        raise AttributeError('size should be greater than 2.')\n",
    "    return np.array(la.toeplitz([2, -1] + zeros, [0, -1] + zeros))\n",
    "\n",
    "def create_tridiagonal_matrices(range):\n",
    "    return [create_tridiagonal_matrix(i) for i in range]\n",
    "\n",
    "def create_random_matrices(range):\n",
    "    return [np.random.random((i, i)) for i in range]"
   ]
  },
  {
   "cell_type": "markdown",
   "id": "ad69249f-8779-4ded-8250-3db1c526a6e5",
   "metadata": {
    "tags": []
   },
   "source": [
    "## Experimental research\n",
    "\n",
    "---\n",
    "\n",
    "This block presents results of the implemented functions.\n",
    "We evaluate three different test cases:\n",
    "- Hilbert matrices\n",
    "- Randomly generated matrices\n",
    "- Diagonally dominant tridiagonal matrices\n",
    "    \n",
    "For each case we vary matrices and vectors of linear system to check the correlation between\n",
    "condition numbers and solution error."
   ]
  },
  {
   "cell_type": "code",
   "execution_count": null,
   "id": "dc413295-454e-42d7-8bb1-fbc6d86a66d0",
   "metadata": {},
   "outputs": [],
   "source": [
    "import pandas as pd\n",
    "\n",
    "ranks = range(3, 20)\n",
    "decimals = range(2, 11, 3)\n",
    "\n",
    "hilbert_matrices = create_hilbert_matrices(ranks)\n",
    "tridiagonal_matrices = create_tridiagonal_matrices(ranks)\n",
    "random_matrices = create_random_matrices(ranks)\n",
    "\n",
    "def experiment(matr, decimal_round):\n",
    "    n, m = matr.shape\n",
    "    id_vect = np.ones(m)\n",
    "    \n",
    "    b = matr.dot(id_vect)\n",
    "    b = b.round(decimal_round)\n",
    "    matr = matr.round(decimal_round)\n",
    "    \n",
    "    sol = solve_le(matr, b)\n",
    "    \n",
    "    return la.norm(sol - id_vect)"
   ]
  },
  {
   "cell_type": "markdown",
   "id": "cbab148a-aaba-4b19-8fc1-9561fd6b44cc",
   "metadata": {
    "tags": []
   },
   "source": [
    "### Results for Hilbert matrices"
   ]
  },
  {
   "cell_type": "code",
   "execution_count": null,
   "id": "6595e8e1-18a2-43f6-8727-f195836c84b7",
   "metadata": {},
   "outputs": [],
   "source": [
    "res_hilbert = []\n",
    "cond_nums = []\n",
    "\n",
    "for matr in hilbert_matrices:\n",
    "    hilbert_results = [experiment(matr, decimal) for decimal in decimals]\n",
    "    res_hilbert.append(hilbert_results)\n",
    "    cond_nums.append(compute_matr_condition_nums(matr))\n",
    "\n",
    "df_h = pd.DataFrame(res_hilbert, index=ranks, columns=decimals)\n",
    "df_hcn = pd.DataFrame(cond_nums, index=ranks, columns=[\"spectral\", \"bulk\", \"angular\"])\n",
    "\n",
    "df_h = df_h.round(decimals=6)\n",
    "df_hcn = df_hcn.round(decimals=3)\n",
    "\n",
    "print(pd.concat([df_h, df_hcn], axis=1))"
   ]
  },
  {
   "cell_type": "markdown",
   "id": "0e3c7e07-f4aa-4e7d-bcdc-ed77614c4571",
   "metadata": {},
   "source": [
    "### Results for randomly generated matrices"
   ]
  },
  {
   "cell_type": "code",
   "execution_count": null,
   "id": "4044e5c5-3bc7-43d6-83a4-d48018d372cb",
   "metadata": {},
   "outputs": [],
   "source": [
    "res_random = []\n",
    "cond_nums = []\n",
    "\n",
    "for matr in random_matrices:\n",
    "    random_matrices_results = [experiment(matr, decimal) for decimal in decimals]\n",
    "    res_random.append(random_matrices_results)\n",
    "    cond_nums.append(compute_matr_condition_nums(matr))\n",
    "\n",
    "df_r = pd.DataFrame(res_random, index=ranks, columns=decimals)\n",
    "df_rcn = pd.DataFrame(cond_nums, index=ranks, columns=[\"spectral\", \"bulk\", \"angular\"])\n",
    "\n",
    "df_r = df_r.round(decimals=6)\n",
    "df_rcn = df_rcn.round(decimals=3)\n",
    "\n",
    "print(pd.concat([df_r, df_rcn], axis=1))"
   ]
  },
  {
   "cell_type": "markdown",
   "id": "3afe89d9-1b70-4451-a91a-ec6fd00786cf",
   "metadata": {},
   "source": [
    "### Result for diagonally dominant tridiagonal matrices"
   ]
  },
  {
   "cell_type": "code",
   "execution_count": null,
   "id": "8191154b-d963-468e-97c4-cb9a1ab36a2a",
   "metadata": {
    "tags": []
   },
   "outputs": [],
   "source": [
    "res_tridiag = []\n",
    "cond_nums = []\n",
    "\n",
    "for matr in tridiagonal_matrices:\n",
    "    tridiag_results = [experiment(matr, decimal) for decimal in decimals]\n",
    "    res_tridiag.append(tridiag_results)\n",
    "    cond_nums.append(compute_matr_condition_nums(matr))\n",
    "\n",
    "df = pd.DataFrame(res_tridiag, index=ranks, columns=decimals)\n",
    "df1 = pd.DataFrame(cond_nums, index=ranks, columns=[\"spectral\", \"bulk\", \"angular\"])\n",
    "\n",
    "df = df.round(decimals=9)\n",
    "df1 = df1.round(decimals=3)\n",
    "\n",
    "print(pd.concat([df, df1], axis=1))"
   ]
  }
 ],
 "metadata": {
  "kernelspec": {
   "display_name": "Python 3 (ipykernel)",
   "language": "python",
   "name": "python3"
  },
  "language_info": {
   "codemirror_mode": {
    "name": "ipython",
    "version": 3
   },
   "file_extension": ".py",
   "mimetype": "text/x-python",
   "name": "python",
   "nbconvert_exporter": "python",
   "pygments_lexer": "ipython3",
   "version": "3.9.12"
  }
 },
 "nbformat": 4,
 "nbformat_minor": 5
}
