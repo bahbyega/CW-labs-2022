{
 "cells": [
  {
   "cell_type": "markdown",
   "metadata": {},
   "source": [
    "# Lab3\n",
    "\n",
    "---\n",
    "\n",
    "## Task\n",
    "\n",
    "- Реализовать метод решения СЛАУ, на выбор: метод вращений или метод отражений.\n",
    "- Вычислить числа обусловленности.\n",
    "- Протестировать на тех же матрицах, что использовались в задании 2; сравнить."
   ]
  },
  {
   "cell_type": "markdown",
   "metadata": {},
   "source": [
    "# Solution\n",
    "\n",
    "---"
   ]
  },
  {
   "cell_type": "code",
   "execution_count": null,
   "metadata": {},
   "outputs": [],
   "source": [
    "import numpy as np\n",
    "from scipy import linalg as la\n",
    "\n",
    "from utils.lineq import *\n",
    "\n",
    "def rotation_method_solve(matr, b):\n",
    "    \"\"\", \n",
    "    A: matr\n",
    "    We solve the equation Ax = b, where A = QR\n",
    "    \"\"\"\n",
    "    Q, R = qr_decompose(matr)\n",
    "\n",
    "    new_b = Q.T.dot(b)\n",
    "    x = lu_solve(R, new_b)\n",
    "\n",
    "    return x\n",
    "\n",
    "def create_rotation_matrix(n, sin, cos, i, j):\n",
    "    matr = np.identity(n)\n",
    "    matr[i, i] = cos\n",
    "    matr[j, j] = cos\n",
    "    matr[i, j] = -sin\n",
    "    matr[j, i] = sin\n",
    "    \n",
    "    return matr\n",
    "\n",
    "def qr_decompose(A: np.array):\n",
    "    n = A.shape[0]\n",
    "    Q = np.identity(n)\n",
    "    R = A.copy()\n",
    "    \n",
    "    for j in range(n):\n",
    "        for i in range(n - 1, j, -1):\n",
    "            sin, cos = get_sin_cos(R[i - 1, j], R[i, j])\n",
    "            rotation_matrix = create_rotation_matrix(n, sin, cos, i, j)\n",
    "            Q = Q @ rotation_matrix\n",
    "            R = rotation_matrix.T @ R\n",
    "    return Q, R"
   ]
  },
  {
   "cell_type": "markdown",
   "metadata": {},
   "source": [
    "## Experimental research"
   ]
  },
  {
   "cell_type": "code",
   "execution_count": null,
   "metadata": {},
   "outputs": [],
   "source": [
    "from utils.cond_nums import *\n",
    "from utils.matrices import *\n",
    "\n",
    "def print_cond_nums_for_rotation_method(A):\n",
    "    Q, R = qr_decompose(A)\n",
    "    for name, matr in ((\"A\", A), (\"Q\", Q), (\"R\", R)):\n",
    "        spec_cn, bulk_cn, ang_cn = compute_matr_condition_nums(matr)\n",
    "        print(f\"Matrix {name}:\")\n",
    "        print(f\"    Spectral condition number : {spec_cn}\")\n",
    "        print(f\"    Bulk condition number     : {bulk_cn}\")\n",
    "        print(f\"    Angular condition number  : {ang_cn}\")\n",
    "\n"
   ]
  },
  {
   "cell_type": "code",
   "execution_count": null,
   "metadata": {},
   "outputs": [],
   "source": [
    "A = create_random_matrix(rank)\n",
    "rank = 10\n",
    "print_cond_nums_for_rotation_method(A)\n",
    "\n",
    "x = np.ones(A.shape[0])\n",
    "b = A @ x\n",
    "\n",
    "actual = rotation_method_solve(A, b)\n",
    "expected = la.solve(A, b)\n",
    "\n",
    "print(f\"\\nError: {la.norm(actual - x)}\")\n",
    "print(f\"\\nError: {la.norm(expected - x)}\")"
   ]
  },
  {
   "cell_type": "code",
   "execution_count": null,
   "metadata": {},
   "outputs": [],
   "source": [
    "A = create_tridiagonal_matrix(rank)\n",
    "print_cond_nums_for_rotation_method(A)\n",
    "\n",
    "b = np.ones(A.shape[0])\n",
    "actual = rotation_method_solve(A, b)\n",
    "expected = np.linalg.solve(A, b)\n",
    "\n",
    "print(f\"\\nError: {la.norm(actual - expected)}\")"
   ]
  },
  {
   "cell_type": "code",
   "execution_count": null,
   "metadata": {},
   "outputs": [],
   "source": [
    "rank = 5\n",
    "A = create_tridiagonal_matrix(rank)\n",
    "print_cond_nums_for_rotation_method(A)\n",
    "\n",
    "b = np.ones(A.shape[0])\n",
    "\n",
    "actual = rotation_method_solve(A, b)\n",
    "expected = lu_solve(A, b)\n",
    "\n",
    "print(f\"\\nError: {la.norm(actual - expected)}\")"
   ]
  },
  {
   "cell_type": "code",
   "execution_count": null,
   "metadata": {},
   "outputs": [],
   "source": [
    "rank = 10\n",
    "A = create_hilbert_matrix(rank)\n",
    "print_cond_nums_for_rotation_method(A)\n",
    "\n",
    "b = np.ones(A.shape[0])\n",
    "actual = rotation_method_solve(A, b)\n",
    "expected = A.dot(actual)\n",
    "\n",
    "print(f\"\\nError: {la.norm(actual - expected)}\")"
   ]
  }
 ],
 "metadata": {
  "interpreter": {
   "hash": "baaf916ca6c4ce979e8147ddecfa27bf3f96ad18e9f19ff9b194c54fcb57b5ff"
  },
  "kernelspec": {
   "display_name": "Python 3 (ipykernel)",
   "language": "python",
   "name": "python3"
  },
  "language_info": {
   "codemirror_mode": {
    "name": "ipython",
    "version": 3
   },
   "file_extension": ".py",
   "mimetype": "text/x-python",
   "name": "python",
   "nbconvert_exporter": "python",
   "pygments_lexer": "ipython3",
   "version": "3.9.12"
  }
 },
 "nbformat": 4,
 "nbformat_minor": 4
}
