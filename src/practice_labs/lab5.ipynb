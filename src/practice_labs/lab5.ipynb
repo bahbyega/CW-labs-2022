{
 "cells": [
  {
   "cell_type": "markdown",
   "metadata": {},
   "source": [
    "# Lab5\n",
    "\n",
    "---\n",
    "\n",
    "## Task\n",
    "\n",
    "Реализовать для нахождения максимального по модулю собственного числа и соответствующего собственного вектора матрицы степенной метод и метод скалярных произведений.\n",
    "\n",
    "- Вычисления проводить до достижения точности ε.\n",
    "- Варьируя ε, скажем от 10<sup>-2</sup> до 10<sup>-5</sup>, изучить зависимость количества итераций от ε.\n",
    "- Сравнить количество итераций в методах (при каждом фиксированном ε)\n",
    "- Если есть возможность - сравнить полученные значения (с.ч. и с.в.) с найденными встроенными функциями."
   ]
  },
  {
   "cell_type": "markdown",
   "metadata": {},
   "source": [
    "# Solution\n",
    "\n",
    "---"
   ]
  },
  {
   "cell_type": "code",
   "execution_count": null,
   "metadata": {},
   "outputs": [],
   "source": [
    "import math\n",
    "import  numpy as np\n",
    "from scipy import linalg as la\n",
    "\n",
    "from utils.matrices import *"
   ]
  },
  {
   "cell_type": "code",
   "execution_count": null,
   "metadata": {},
   "outputs": [],
   "source": [
    "def eig_value_degree_method(A, error):\n",
    "    n, _ = A.shape\n",
    "    x_ = np.ones(n)\n",
    "\n",
    "    x = v = v_ = None\n",
    "    iter = 0\n",
    "    \n",
    "    while v is None or x is None or (v_ - v) > error:\n",
    "        if v_ is not None:\n",
    "            v = math.sqrt((x_ @ x_) / (x @ x))\n",
    "        x = x_\n",
    "        x_ = A @ x_\n",
    "        v_ = math.sqrt((x_ @ x_) / (x @ x))\n",
    "        iter += 1\n",
    "    \n",
    "    eig_vect = np.split(x, len(x))\n",
    "\n",
    "    return (x_[0] / x[0]), eig_vect / eig_vect[len(x) - 1], iter"
   ]
  },
  {
   "cell_type": "code",
   "execution_count": null,
   "metadata": {},
   "outputs": [],
   "source": [
    "def eig_value_scalar_method(A, error):\n",
    "    n, _ = A.shape\n",
    "    x = np.ones(n)\n",
    "\n",
    "    iter = 0\n",
    "    X = A @ x\n",
    "    Y = A.T @ x\n",
    "    Z = A ** 0 @ X\n",
    "\n",
    "    ratio = 0\n",
    "    ratio_new = (X @ Y) / (Z @ Y)\n",
    "\n",
    "    while (ratio_new - ratio) > error:\n",
    "        ratio = ratio_new\n",
    "        Z = X\n",
    "        X = A @ X\n",
    "        Y = A.T @ X\n",
    "        ratio_new = (X @ Y) / (Z @ Y)\n",
    "        iter += 1\n",
    "\n",
    "    eig_vect = np.split(Z, len(Z))\n",
    "\n",
    "    return abs(ratio), eig_vect / eig_vect[len(x) - 1], iter\n"
   ]
  },
  {
   "cell_type": "markdown",
   "metadata": {},
   "source": [
    "## Experimental research"
   ]
  },
  {
   "cell_type": "code",
   "execution_count": null,
   "metadata": {},
   "outputs": [],
   "source": [
    "def experiment(A):\n",
    "    for error_deg in range(-5, -16, -5):\n",
    "        error = 10**(error_deg)\n",
    "        print(f\"Max absolute eigenvalue. Error = {error}\")\n",
    "        \n",
    "        actual_deg_eig, actual_deg_vect, iter = eig_value_degree_method(A, error)\n",
    "        print(f\"\"\"\\tDegree method:\n",
    "                    eig  = {actual_deg_eig},\n",
    "                    vect = {actual_deg_vect.T}\n",
    "                    iterations: {iter}\n",
    "               \"\"\")   \n",
    "        \n",
    "        actual_sca_eig, actual_sca_vect, iter = eig_value_scalar_method(A, error)\n",
    "        print(f\"\"\"\\tScalar method:\n",
    "                    eig  = {actual_sca_eig},\n",
    "                    vect = {actual_sca_vect.T}\n",
    "                    iterations: {iter}\n",
    "               \"\"\")\n",
    "        \n",
    "    eigs, _ = la.eig(A)\n",
    "    expected = max(eigs, key=abs)\n",
    "    print(\"==========================================================================================\")\n",
    "    print(f\"Built-in function: {expected}\")\n",
    "        "
   ]
  },
  {
   "cell_type": "code",
   "execution_count": null,
   "metadata": {},
   "outputs": [],
   "source": [
    "A = np.array([[ -0.81417, -0.01937,  0.41372],\n",
    "              [ -0.01937,  6.586211, 0.54414],\n",
    "              [  0.41372,  0.00590, -0.81445]])\n",
    "\n",
    "experiment(A)"
   ]
  },
  {
   "cell_type": "code",
   "execution_count": null,
   "metadata": {},
   "outputs": [],
   "source": [
    "rank = 7\n",
    "A = create_tridiagonal_matrix(rank)\n",
    "\n",
    "experiment(A)"
   ]
  },
  {
   "cell_type": "code",
   "execution_count": null,
   "metadata": {},
   "outputs": [],
   "source": [
    "rank = 7\n",
    "A = create_hilbert_matrix(rank)\n",
    "\n",
    "experiment(A)"
   ]
  }
 ],
 "metadata": {
  "interpreter": {
   "hash": "baaf916ca6c4ce979e8147ddecfa27bf3f96ad18e9f19ff9b194c54fcb57b5ff"
  },
  "kernelspec": {
   "display_name": "Python 3 (ipykernel)",
   "language": "python",
   "name": "python3"
  },
  "language_info": {
   "codemirror_mode": {
    "name": "ipython",
    "version": 3
   },
   "file_extension": ".py",
   "mimetype": "text/x-python",
   "name": "python",
   "nbconvert_exporter": "python",
   "pygments_lexer": "ipython3",
   "version": "3.9.12"
  }
 },
 "nbformat": 4,
 "nbformat_minor": 4
}
