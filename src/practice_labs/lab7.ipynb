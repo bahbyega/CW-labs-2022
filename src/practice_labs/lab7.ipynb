{
 "cells": [
  {
   "cell_type": "markdown",
   "metadata": {},
   "source": [
    "# Lab7\n",
    "\n",
    "---\n",
    "\n",
    "## Task\n",
    "\n",
    "Реализовать решение ОДУ сеточным методом.\n",
    "\n",
    "- Начинать вычисления с грубой сетки (примерно 10 интервалов); измельчать сетку и уточнять по Ричардсону. В идеале — до момента выхода на ошибки округления. Отследить, какая точность (например, от 10<sup>-2</sup> до 10<sup>-6</sup>) достигнута при каком шаге сетки.\n",
    "- Выводить полученное приближение. Можно на картинке."
   ]
  },
  {
   "cell_type": "markdown",
   "metadata": {},
   "source": [
    "# Solution\n",
    "\n",
    "---"
   ]
  },
  {
   "cell_type": "code",
   "execution_count": null,
   "metadata": {},
   "outputs": [],
   "source": [
    "import math\n",
    "import numpy as np\n",
    "from scipy import linalg as la\n",
    "\n",
    "import matplotlib.pyplot as plt"
   ]
  },
  {
   "cell_type": "code",
   "execution_count": null,
   "metadata": {},
   "outputs": [],
   "source": [
    "def get_error(v1, v2, r = 2, p = 1):\n",
    "    \"\"\"\n",
    "    v1 and v2 are meshes, v1 > v2\n",
    "    r is the mesh thinchening factor\n",
    "    p is theoretical order of accuracy\n",
    "    \"\"\"\n",
    "    n, _ = v1.shape\n",
    "    return np.float_([(v2[2*i] - v1[i]) / (r**p - 1) for i in range(n)])\n",
    "\n",
    "def solve_grid_eq(p, q, r, f, segment, n, conditions):\n",
    "    a, b = segment\n",
    "    h = (b - a) / n\n",
    "\n",
    "    F = np.zeros((n + 1, 1))\n",
    "    F[0], F[n] = conditions\n",
    "\n",
    "    bfunc = np.zeros((n + 1, n + 1))\n",
    "    bfunc[0, 0], bfunc[n, n] = 1, 1\n",
    "\n",
    "    grid = np.linspace(a, b, n)\n",
    "    \n",
    "    for i in range(1, n):\n",
    "        x = grid[i]\n",
    "        bfunc[i, i - 1] = p(x) / h ** 2 - q(x) / (2 * h)\n",
    "        bfunc[i, i] = -2 * p(x) / h ** 2 - r(x)\n",
    "        bfunc[i, i + 1] = p(x) / h ** 2  + q(x) / (2 * h)\n",
    "        F[i] = f(x)\n",
    "\n",
    "    return la.solve(bfunc, F)\n",
    "\n",
    "def grid_method(p, q, r, f, segment, conditions, tolerance, max_iter = 20):\n",
    "    n = 10\n",
    "    multiplier = 2\n",
    "    a, b = segment\n",
    "\n",
    "    v2 = solve_grid_eq(p, q, r, f, segment, n, conditions)\n",
    "    \n",
    "    iter = 0\n",
    "    while max_iter > iter:\n",
    "        iter += 1\n",
    "        n = n * multiplier\n",
    "        v1 = v2\n",
    "        v2 = solve_grid_eq(p, q, r, f, segment, n, conditions)\n",
    "\n",
    "        error = get_error(v1, v2)\n",
    "        if la.norm(error) < tolerance:\n",
    "            for i in range(len(error)):\n",
    "                if i % 2 == 0:\n",
    "                    v2[2*i] += error[i]\n",
    "                else:\n",
    "                    v2[i] += (error[i - 1] + error[i + 1]) / 2\n",
    "            \n",
    "            m = v2.shape[0]\n",
    "            x = np.zeros(m, dtype=float)\n",
    "            h = (b - a)/n\n",
    "            for i in range(m):\n",
    "                x[i] = a + i * h / (multiplier ** iter)\n",
    "            \n",
    "            return x, v2, h / (multiplier ** iter), iter\n"
   ]
  },
  {
   "cell_type": "markdown",
   "metadata": {},
   "source": [
    "## Experimental reseach"
   ]
  },
  {
   "cell_type": "code",
   "execution_count": null,
   "metadata": {},
   "outputs": [],
   "source": [
    "def experiment(x, y):\n",
    "    plt.grid()\n",
    "    plt.plot(x, y, marker=\".\", mec='yellow')\n",
    "    plt.show()\n"
   ]
  },
  {
   "cell_type": "markdown",
   "metadata": {},
   "source": [
    "Вариант 6 из методички"
   ]
  },
  {
   "cell_type": "code",
   "execution_count": null,
   "metadata": {},
   "outputs": [],
   "source": [
    "segment = (-1, 1)\n",
    "conditions = (0, 0)\n",
    "eps = [1e-1, 1e-2]\n",
    "\n",
    "for e in eps:\n",
    "    x, y, h, iter = grid_method(\n",
    "        lambda x: (x - 2) / (x + 2), \n",
    "        lambda x: x, \n",
    "        lambda x: 1 - math.sin(x),\n",
    "        lambda x: x ** 2,\n",
    "        segment,\n",
    "        conditions,\n",
    "        e\n",
    "    )\n",
    "\n",
    "    experiment(x, y, iter)\n",
    "    print(f\"Iterations: {iter}\")\n",
    "    print(f\"Mesh step: {h:.10f}\")"
   ]
  },
  {
   "cell_type": "markdown",
   "metadata": {},
   "source": [
    "Вариант 8 из методички"
   ]
  },
  {
   "cell_type": "code",
   "execution_count": null,
   "metadata": {},
   "outputs": [],
   "source": [
    "segment = (-1, 1)\n",
    "conditions = (0, 0)\n",
    "eps = [1e-1, 1e-2, 1e-3]\n",
    "\n",
    "for e in eps:\n",
    "    x, y, h, iter = grid_method(\n",
    "        lambda x: -(4 - x) / (5 - 2 * x), \n",
    "        lambda x: (1 - x) / 2, \n",
    "        lambda x: math.log(3 + x) / 2,\n",
    "        lambda x: 1 + x / 3,\n",
    "        segment,\n",
    "        conditions,\n",
    "        e\n",
    "    )\n",
    "    experiment(x, y, iter)\n",
    "    print(f\"Iterations: {iter}\")\n",
    "    print(f\"Mesh step: {h:.10f}\")"
   ]
  }
 ],
 "metadata": {
  "interpreter": {
   "hash": "baaf916ca6c4ce979e8147ddecfa27bf3f96ad18e9f19ff9b194c54fcb57b5ff"
  },
  "kernelspec": {
   "display_name": "Python 3 (ipykernel)",
   "language": "python",
   "name": "python3"
  },
  "language_info": {
   "codemirror_mode": {
    "name": "ipython",
    "version": 3
   },
   "file_extension": ".py",
   "mimetype": "text/x-python",
   "name": "python",
   "nbconvert_exporter": "python",
   "pygments_lexer": "ipython3",
   "version": "3.9.12"
  }
 },
 "nbformat": 4,
 "nbformat_minor": 4
}
